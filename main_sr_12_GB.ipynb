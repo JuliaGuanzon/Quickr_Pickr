{
 "cells": [
  {
   "cell_type": "code",
   "execution_count": null,
   "id": "af7ae3b1",
   "metadata": {},
   "outputs": [],
   "source": [
    "# library information:\n",
    "\n",
    "import os\n",
    "# It is the fundamental library of python, used to perform scientific computing. \n",
    "# It provides high-performance multidimensional arrays and tools to deal with them.\n",
    "import numpy as np\n",
    "# Pandas provide high performance, fast, easy to use data structures and data analysis tools for manipulating \n",
    "# numeric data and time series. Pandas is built on the numpy library and written in languages like Python.\n",
    "import pandas as pd\n",
    "# import library to read date range for stock ticker historical data range\n",
    "import datetime\n",
    "import json\n",
    "\n",
    "import alpaca_trade_api as tradeapi\n",
    "\n",
    "from dotenv import load_dotenv\n",
    "# import ipynb.fs.full\n",
    "# https://stackoverflow.com/questions/44116194/import-a-function-from-another-ipynb-file\n",
    "# from ipynb.fs.full.test_sr import *\n",
    "# from ipynb.fs.full.date_functions import *\n",
    "# from ipynb.fs.full.my_functions import *\n",
    "\n",
    "# since functions will be in a different folder, import library to read path info\n",
    "import sys\n",
    "sys.path.append('Saeed/functions/')\n",
    "sys.path.append('Saeed/functions/utils/')\n",
    "# and now import my functions\n",
    "from test_sr import *\n",
    "from date_functions import *\n",
    "from my_functions import *\n",
    "\n",
    "# ===================================================================================================\n",
    "# http://theautomatic.net/yahoo_fin-documentation/\n",
    "# pip install yahoo-fin\n",
    "# import yahoo_fin.stock_info as si\n",
    "\n",
    "# import data libraries to read date range for stock ticker historical data range\n",
    "# from datetime import date\n",
    "\n",
    "# other libraries\n",
    "# import pandas_datareader as pdr\n",
    "%matplotlib inline\n",
    "import yfinance as yf"
   ]
  },
  {
   "cell_type": "code",
   "execution_count": null,
   "id": "9266532d",
   "metadata": {},
   "outputs": [],
   "source": [
    "# test call to function in a different folder\n",
    "# ........................................................................display_greeting(\"Saeed\")"
   ]
  },
  {
   "cell_type": "code",
   "execution_count": null,
   "id": "f26169db",
   "metadata": {},
   "outputs": [],
   "source": [
    "# Load .env environment variables\n",
    "load_dotenv()"
   ]
  },
  {
   "cell_type": "code",
   "execution_count": null,
   "id": "846ff437",
   "metadata": {},
   "outputs": [],
   "source": [
    "# Set Alpaca API key and secret\n",
    "alpaca_api_key = os.getenv(\"ALPACA_API_KEY\")\n",
    "alpaca_secret_key = os.getenv(\"ALPACA_SECRET_KEY\")"
   ]
  },
  {
   "cell_type": "code",
   "execution_count": null,
   "id": "e0419c13",
   "metadata": {},
   "outputs": [],
   "source": [
    "# Verify that Alpaca key and secret were correctly loaded\n",
    "print(f\"Alpaca Key type: {type(alpaca_api_key)}\")\n",
    "print(f\"Alpaca Secret Key type: {type(alpaca_secret_key)}\")"
   ]
  },
  {
   "cell_type": "code",
   "execution_count": null,
   "id": "acb66187",
   "metadata": {},
   "outputs": [],
   "source": [
    "# Create the Alpaca API object\n",
    "alpaca = tradeapi.REST(\n",
    "    alpaca_api_key,\n",
    "    alpaca_secret_key,\n",
    "    api_version=\"v2\")"
   ]
  },
  {
   "cell_type": "code",
   "execution_count": null,
   "id": "ca730d53",
   "metadata": {},
   "outputs": [],
   "source": [
    "# SAM: Get S&P 500 tickers\n",
    "sp500_tickers = pd.read_html(\"https://en.wikipedia.org/wiki/List_of_S%26P_500_companies\")[0]\n",
    "sp500_tickers = sp500_tickers.Symbol.to_list()\n",
    "# print(sp500_tickers)"
   ]
  },
  {
   "cell_type": "code",
   "execution_count": null,
   "id": "b6ea65b7",
   "metadata": {},
   "outputs": [],
   "source": [
    "# SAM: Clean Tickers of periods\n",
    "sp500_tickers = [x.replace(\".\", \"-\") for x in sp500_tickers]\n",
    "# print(sp500_tickers)"
   ]
  },
  {
   "cell_type": "code",
   "execution_count": null,
   "id": "f05ddc78",
   "metadata": {},
   "outputs": [],
   "source": [
    "# format current date as ISO format\n",
    "this_moment = datetime.datetime.now()\n",
    "this_moment"
   ]
  },
  {
   "cell_type": "code",
   "execution_count": null,
   "id": "5494bb93",
   "metadata": {},
   "outputs": [],
   "source": [
    "# number of days for which we need data. for 200SMA we should atleast get 250 days\n",
    "num_of_days = 30    # 365 - Get atleast a year's worth of data.\n",
    "num_of_days"
   ]
  },
  {
   "cell_type": "code",
   "execution_count": null,
   "id": "b8b3c800",
   "metadata": {},
   "outputs": [],
   "source": [
    "# get the begin date for the date range.\n",
    "start_date = get_begin_date(this_moment, num_of_days)\n",
    "start_date\n",
    "\n",
    "# start_date.strftime(\"%m/%d/%y\")\n",
    "# start_date = str(datetime.datetime.now() - datetime.timedelta(days=1*num_of_days))\n",
    "# start_date"
   ]
  },
  {
   "cell_type": "code",
   "execution_count": null,
   "id": "49e0a8fb",
   "metadata": {},
   "outputs": [],
   "source": [
    "# get the end date for the date range\n",
    "finish_date = str(this_moment).split()[0]\n",
    "finish_date\n",
    "\n",
    "# = current_date\n",
    "# end_date\n",
    "# current_date = date.today()\n",
    "# current_date.strftime(\"%m/%d/%y\")\n",
    "# end_date = current_date"
   ]
  },
  {
   "cell_type": "code",
   "execution_count": null,
   "id": "c9f40712",
   "metadata": {},
   "outputs": [],
   "source": [
    "# conver date to ISO format\n",
    "begin_date = pd.Timestamp(start_date, tz=\"America/New_York\").isoformat()\n",
    "begin_date"
   ]
  },
  {
   "cell_type": "code",
   "execution_count": null,
   "id": "c6f2f535",
   "metadata": {},
   "outputs": [],
   "source": [
    "end_date = pd.Timestamp(finish_date, tz=\"America/New_York\").isoformat()\n",
    "end_date"
   ]
  },
  {
   "cell_type": "code",
   "execution_count": null,
   "id": "5cbf5c53",
   "metadata": {},
   "outputs": [],
   "source": [
    "# get tickers for \"dow\" or \"sp500\" or \"nasdaq\" one at a time\n",
    "\n",
    "# dow30 has 30 symbols\n",
    "# tickers_dow = get_tickers(\"dow\")\n",
    "# choice = \"dow\"\n",
    "# tickers_dow\n",
    "\n",
    "# sp500 has 505 symbols\n",
    "tickers_sp500 = get_tickers(\"sp500\")\n",
    "choice = \"sp500\"\n",
    "# tickers_sp500\n",
    "\n",
    "# nasdaq has 4942 symbols\n",
    "# tickers_nasdaq = get_tickers(\"nasdaq\")\n",
    "# choice = \"nasdaq\"\n",
    "# tickers_nasdaq\n",
    "\n",
    "# if we decide to use more than one market index, we must remove duplicates\n",
    "# all_tickers = list(set(tickers_dow + tickers_sp500)) \n",
    "\n",
    "# all_tickers = tickers_dow\n",
    "all_tickers = tickers_sp500\n",
    "# all_tickers = tickers_nasdaq\n",
    "all_tickers = [\"AAPL\", \"IBM\", \"WMT\"]     # [\"AAPL\", \"V\", \"WMT\"]\n",
    "# choice = \"sample\"\n",
    "\n",
    "# print(all_tickers)\n",
    "type(all_tickers)\n",
    "all_tickers"
   ]
  },
  {
   "cell_type": "code",
   "execution_count": null,
   "id": "0b317560",
   "metadata": {},
   "outputs": [],
   "source": [
    "# sp_data = yf.download(sp500_tickers, period=\"1mo\")\n",
    "# sp_data = yf.download(all_tickers, start=start_date, end=finish_date)   # doesn't bring today\n",
    "# sp_data = yf.download(all_tickers, period=\"1y\", groupby=\"tickers\")\n",
    "# sp_data"
   ]
  },
  {
   "cell_type": "code",
   "execution_count": null,
   "id": "9ebb6181",
   "metadata": {},
   "outputs": [],
   "source": [
    "selection = yf.download((all_tickers), period=\"1y\", group_by=\"ticker\")\n",
    "# 70.47 seconds\n",
    "selection"
   ]
  },
  {
   "cell_type": "code",
   "execution_count": null,
   "id": "3d2ba568",
   "metadata": {},
   "outputs": [],
   "source": [
    "# select Walmart DF\n",
    "# without group_by\n",
    "# df_t1 = selection.loc(axis=1)[:, ['', 'WMT']]\n",
    "# with group_by\n",
    "df_t = selection.loc(axis=1)['WMT']\n",
    "df_t"
   ]
  },
  {
   "cell_type": "code",
   "execution_count": null,
   "id": "323c2278",
   "metadata": {},
   "outputs": [],
   "source": [
    "# split list of tickers\n",
    "\n",
    "# the_list = all_tickers\n",
    "# if choice == \"sp500\":                # change to sp500 after testing\n",
    "#     chunk_size = 100\n",
    "#     # the_list = all_tickers\n",
    "#     if len(all_tickers) > chunk_size:\n",
    "#         the_list = split_my_list(all_tickers, chunk_size)\n",
    "#         #print(\"Saeed\")\n",
    "# # print(the_list)\n",
    "# type(the_list)"
   ]
  },
  {
   "cell_type": "code",
   "execution_count": null,
   "id": "9eced46d",
   "metadata": {},
   "outputs": [],
   "source": [
    "# save the data\n",
    "# json = final_df(\"hist_data.json\")\n",
    "# save the file for future read\n",
    "with open('resources/data/hist_data.json', 'w') as outfile:\n",
    "     json.dump(selection.to_json(), outfile)"
   ]
  },
  {
   "cell_type": "code",
   "execution_count": null,
   "id": "8efb7039",
   "metadata": {},
   "outputs": [],
   "source": [
    "# how do I read ?\n",
    "# my_file = open('resources/data/hist_data.json', 'r')\n",
    "# json_data = my_file.read()\n",
    "# json_data\n",
    "# df_a = json_data.df\n",
    "# df_a\n",
    "# with open('resources/data/hist_data.json', 'r') as infile:\n",
    "#     data_read = json.load(infile)\n",
    "# # df_a = pd.data_read\n",
    "# # for i in range(0, len(data_read)):\n",
    "# #     print(data_read[i])\n",
    "# # data_read.splitlines()\n",
    "# df_a = pd.DataFrame.from_dict(pd.json_normalize(data_read), orient='columns')\n",
    "# df_a"
   ]
  },
  {
   "cell_type": "code",
   "execution_count": null,
   "id": "eb5fd088",
   "metadata": {},
   "outputs": [],
   "source": [
    "selection"
   ]
  },
  {
   "cell_type": "code",
   "execution_count": null,
   "id": "7df0028f",
   "metadata": {},
   "outputs": [],
   "source": [
    "# select one process for all tickers\n",
    "\n",
    "# without group_by\n",
    "# selection['Close']\n",
    "# with group_by\n",
    "# selection.loc(axis=1)['Close', 'AAPL'] or selection['Close', 'AAPL']\n",
    "df_t = selection.loc(axis=1)[:, ['', 'Close']]\n",
    "df_t"
   ]
  },
  {
   "cell_type": "code",
   "execution_count": null,
   "id": "0f94c823",
   "metadata": {},
   "outputs": [],
   "source": [
    "df_t.loc['2021-08-13']"
   ]
  },
  {
   "cell_type": "code",
   "execution_count": null,
   "id": "2e791d26",
   "metadata": {},
   "outputs": [],
   "source": [
    "#selection.columns"
   ]
  },
  {
   "cell_type": "code",
   "execution_count": null,
   "id": "1815c08f",
   "metadata": {},
   "outputs": [],
   "source": [
    "# selection.index.values"
   ]
  },
  {
   "cell_type": "code",
   "execution_count": null,
   "id": "50954074",
   "metadata": {},
   "outputs": [],
   "source": [
    "# df_daily_change = selection['Close'] - selection['Open']\n",
    "col_close = selection.loc(axis=1)[:, ['', 'Close']]\n",
    "# col_close\n",
    "col_open = selection.loc(axis=1)[:, ['', 'Open']]\n",
    "col_open\n",
    "df_daily_change = selection[\"Close\"] - selection[\"Open\"]\n",
    "df_daily_change = col_close - col_open\n",
    "df_daily_change\n",
    "# df_change.columns"
   ]
  },
  {
   "cell_type": "code",
   "execution_count": null,
   "id": "6398cae3",
   "metadata": {},
   "outputs": [],
   "source": [
    "# # df_daily_change.columns\n",
    "# headers = pd.MultiIndex.from_product([['Daily Change'], df_daily_change.columns])\n",
    "# # headers\n",
    "# df_daily_change.index"
   ]
  },
  {
   "cell_type": "code",
   "execution_count": null,
   "id": "62a7cf50",
   "metadata": {},
   "outputs": [],
   "source": [
    "headers = pd.MultiIndex.from_product([['Daily Change'], df_daily_change.columns])\n",
    "df_daily_change = pd.DataFrame(df_daily_change.values, df_daily_change.index, columns = headers)\n",
    "df_daily_change"
   ]
  },
  {
   "cell_type": "code",
   "execution_count": null,
   "id": "157c3bba",
   "metadata": {},
   "outputs": [],
   "source": [
    "selection = pd.concat([selection, df_daily_change], axis=1, join=\"inner\")\n",
    "selection"
   ]
  },
  {
   "cell_type": "code",
   "execution_count": null,
   "id": "0ef7533a",
   "metadata": {},
   "outputs": [],
   "source": [
    "#df_daily_change = selection['Close'] - selection['Open']\n",
    "df_daily_change\n",
    "x = df_daily_change / selection.loc(axis=1)[:, ['', 'Open']]\n",
    "x\n",
    "# df_change\n",
    "#df_percent_daily_change\n",
    "# df_t\n",
    "# selection.loc(axis=1)[:, ['', 'Open']]"
   ]
  },
  {
   "cell_type": "code",
   "execution_count": null,
   "id": "85786c54",
   "metadata": {},
   "outputs": [],
   "source": [
    "headers = pd.MultiIndex.from_product([['Percent Daily Change'], df_percent_daily_change.columns])\n",
    "df_percent_daily_change = pd.DataFrame(df_percent_daily_change.values, df_percent_daily_change.index, columns = headers)\n",
    "df_percent_daily_change"
   ]
  },
  {
   "cell_type": "code",
   "execution_count": null,
   "id": "4649d56a",
   "metadata": {},
   "outputs": [],
   "source": [
    "selection = pd.concat([selection, df_percent_daily_change], axis=1, join=\"inner\")"
   ]
  },
  {
   "cell_type": "code",
   "execution_count": null,
   "id": "7b492d46",
   "metadata": {},
   "outputs": [],
   "source": [
    "selection"
   ]
  },
  {
   "cell_type": "code",
   "execution_count": null,
   "id": "acb890ec",
   "metadata": {},
   "outputs": [],
   "source": [
    "selection.swaplevel()"
   ]
  },
  {
   "cell_type": "code",
   "execution_count": null,
   "id": "1c6ba3dd",
   "metadata": {},
   "outputs": [],
   "source": [
    "# selection['Delta']['AAPL'] = selection['High']['AAPL'] - selection['Low']['AAPL']\n",
    "selection['Daily Change']"
   ]
  },
  {
   "cell_type": "code",
   "execution_count": null,
   "id": "6c5c47c5",
   "metadata": {},
   "outputs": [],
   "source": [
    "# create a dataframe to test swapping the header rows\n",
    "\n",
    "# initilize Data\n",
    "data = [['Mr X', 99], ['Mr Y', 108], ['Mr Z', 111]]\n",
    "\n",
    "# create the dataframe\n",
    "df = pd.DataFrame(data, columns = ['Name', 'Age'])\n",
    "\n",
    "# print DataFrame\n",
    "df"
   ]
  },
  {
   "cell_type": "code",
   "execution_count": null,
   "id": "737ff7b6",
   "metadata": {},
   "outputs": [],
   "source": [
    "df_t = df.T\n",
    "df_t"
   ]
  },
  {
   "cell_type": "code",
   "execution_count": null,
   "id": "4beab68b",
   "metadata": {},
   "outputs": [],
   "source": [
    "headers = pd.MultiIndex.from_product([['Percent Daily Change'], df_percent_daily_change.columns])\n",
    "df_percent_daily_change = pd.DataFrame(df_percent_daily_change.values, df_percent_daily_change.index, columns = headers)\n",
    "df_percent_daily_change"
   ]
  },
  {
   "cell_type": "code",
   "execution_count": null,
   "id": "78c46bc6",
   "metadata": {},
   "outputs": [],
   "source": [
    "\n",
    "headers = pd.MultiIndex.from_product([['Parent'], ['chils1', 'child2']])\n",
    "data = [[1, 11], [2, 22], [3, 33]]\n",
    "\n",
    "df = pd.DataFrame(data, columns=headers)\n",
    "df"
   ]
  },
  {
   "cell_type": "code",
   "execution_count": null,
   "id": "f4152e27",
   "metadata": {},
   "outputs": [],
   "source": [
    "df_2 = df.swaplevel()\n",
    "df_2"
   ]
  },
  {
   "cell_type": "code",
   "execution_count": null,
   "id": "a2f84c36",
   "metadata": {},
   "outputs": [],
   "source": []
  }
 ],
 "metadata": {
  "kernelspec": {
   "display_name": "Python (dev)",
   "language": "python",
   "name": "dev"
  },
  "language_info": {
   "codemirror_mode": {
    "name": "ipython",
    "version": 3
   },
   "file_extension": ".py",
   "mimetype": "text/x-python",
   "name": "python",
   "nbconvert_exporter": "python",
   "pygments_lexer": "ipython3",
   "version": "3.7.10"
  }
 },
 "nbformat": 4,
 "nbformat_minor": 5
}
