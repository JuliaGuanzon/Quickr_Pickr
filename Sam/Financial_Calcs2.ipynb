{
 "cells": [
  {
   "cell_type": "code",
   "execution_count": null,
   "id": "53f6eee2",
   "metadata": {},
   "outputs": [],
   "source": [
    "# Import necessary libraries\n",
    "import pandas as pd, shutil, os\n",
    "import yfinance as yf\n",
    "import datetime as dt\n",
    "import numpy as np\n",
    "from pathlib import Path\n",
    "import json"
   ]
  },
  {
   "cell_type": "code",
   "execution_count": null,
   "id": "4b18b745",
   "metadata": {},
   "outputs": [],
   "source": [
    "# Get S&P 500 tickers\n",
    "sp500_tickers = pd.read_html(\"https://en.wikipedia.org/wiki/List_of_S%26P_500_companies\")[0]\n",
    "sp500_tickers = sp500_tickers.Symbol.to_list()\n",
    "# sp500_tickers"
   ]
  },
  {
   "cell_type": "code",
   "execution_count": null,
   "id": "ed3e219d",
   "metadata": {},
   "outputs": [],
   "source": [
    "# Clean Tickers of periods\n",
    "sp500_tickers = [x.replace(\".\", \"-\") for x in sp500_tickers]\n",
    "# sp500_tickers"
   ]
  },
  {
   "cell_type": "code",
   "execution_count": null,
   "id": "b97382f8",
   "metadata": {},
   "outputs": [],
   "source": [
    "# Define Start and End dates for hist. data(5 yr)\n",
    "end_date = dt.datetime.now().date().isoformat()\n",
    "start_date = dt.datetime.now() - dt.timedelta(weeks=26)\n",
    "start_date = start_date.date().isoformat()\n",
    "start_date"
   ]
  },
  {
   "cell_type": "code",
   "execution_count": null,
   "id": "60a92750",
   "metadata": {},
   "outputs": [],
   "source": [
    "# Removes old Stock_Data folder and replaces it with a new, empty one\n",
    "shutil.rmtree(\"Stock_Data\")\n",
    "os.mkdir(\"Stock_Data\")"
   ]
  },
  {
   "cell_type": "code",
   "execution_count": null,
   "id": "8305a5d1",
   "metadata": {},
   "outputs": [],
   "source": [
    "sp_data = yf.download(sp5_tickers, period=\"5d\", group_by=\"Ticker\")\n",
    "sp_data"
   ]
  },
  {
   "cell_type": "code",
   "execution_count": null,
   "id": "2b1284e1",
   "metadata": {},
   "outputs": [],
   "source": [
    "csv_path = Path(\"Stock_Data/Stock_Data.json\")"
   ]
  },
  {
   "cell_type": "code",
   "execution_count": null,
   "id": "977f82c6",
   "metadata": {},
   "outputs": [],
   "source": [
    "stock_dict = {}"
   ]
  },
  {
   "cell_type": "code",
   "execution_count": null,
   "id": "ba7a9c08",
   "metadata": {},
   "outputs": [],
   "source": [
    "sp_data_j = sp_data.to_json()"
   ]
  },
  {
   "cell_type": "code",
   "execution_count": null,
   "id": "618ee23c",
   "metadata": {},
   "outputs": [],
   "source": [
    "type(stock_dict)"
   ]
  },
  {
   "cell_type": "code",
   "execution_count": null,
   "id": "a14efbdf",
   "metadata": {},
   "outputs": [],
   "source": [
    "type(sp_data_j)"
   ]
  },
  {
   "cell_type": "code",
   "execution_count": null,
   "id": "21efa9b0",
   "metadata": {},
   "outputs": [],
   "source": [
    "sp_data_j = json.loads(sp_data_j)\n",
    "type(sp_data_j)"
   ]
  },
  {
   "cell_type": "code",
   "execution_count": null,
   "id": "79cb6845",
   "metadata": {},
   "outputs": [],
   "source": [
    "print(json.dumps(sp_data_j, indent=4))"
   ]
  },
  {
   "cell_type": "code",
   "execution_count": null,
   "id": "229151de",
   "metadata": {},
   "outputs": [],
   "source": [
    "# reading the JSON data using json.load()\n",
    "# file = 'data.json'\n",
    "# with open(file) as train_file:\n",
    "#     dict_train = json.load(train_file)\n",
    "\n",
    "# converting json dataset from dictionary to dataframe\n",
    "train = pd.DataFrame.from_dict(sp_data_j, orient='index')\n",
    "train.reset_index(level=0, inplace=True)"
   ]
  },
  {
   "cell_type": "code",
   "execution_count": null,
   "id": "cd795143",
   "metadata": {},
   "outputs": [],
   "source": [
    "train"
   ]
  },
  {
   "cell_type": "code",
   "execution_count": null,
   "id": "b719d650",
   "metadata": {},
   "outputs": [],
   "source": [
    "with open(csv_path, 'w') as outfile:\n",
    "     json.dump(sp_data.to_json(), outfile, indent=4)"
   ]
  },
  {
   "cell_type": "code",
   "execution_count": null,
   "id": "10ec90ab",
   "metadata": {},
   "outputs": [],
   "source": [
    "with open(csv_path, \"r\") as infile:\n",
    "    stock_dict = json.dump(infile)\n",
    "    \n",
    "stock_dict"
   ]
  },
  {
   "cell_type": "code",
   "execution_count": null,
   "id": "fc61a70a",
   "metadata": {},
   "outputs": [],
   "source": [
    "json_file = open(csv_path, \"r\").read()\n",
    "# stock_d = json.load(json_file)\n",
    "# json_file.close()\n",
    "# print(json.dumps(stock_d, indent=4, sort_keys=True))\n",
    "# data = urlopen(q).read()\n",
    "json_data = json.loads(json_file) # DECODE THE STRING \n",
    "with open('output.json', 'w') as out:\n",
    "    json.dump(json_data, out, indent=4) # DO NOT CALL STR ON IT AGAIN\n",
    "\n",
    "print(json.dumps(out))"
   ]
  },
  {
   "cell_type": "code",
   "execution_count": 48,
   "id": "e8b6e4fb",
   "metadata": {},
   "outputs": [],
   "source": [
    "def ForwardPE():\n",
    "    tick_list = []\n",
    "    forwardPE = []\n",
    "    count = 0\n",
    "    for ticker in sp5_tickers:\n",
    "        info = yf.Ticker(ticker).info\n",
    "        info[\"Ticker\"] = ticker\n",
    "        forwardPE.append(info[\"forwardPE\"])\n",
    "        tick_list.append(info[\"Ticker\"])\n",
    "        count+=1\n",
    "        print(count)\n",
    "    pe_df = pd.DataFrame(data=forwardPE, index=tick_list, columns=[\"Forward P/E\"])\n",
    "    pe_df.sort_values(by=\"Forward P/E\", ascending=False, inplace=True)\n",
    "    \n",
    "    return pe_df\n",
    "# fin = yf.Ticker(\"MSFT\").info"
   ]
  },
  {
   "cell_type": "code",
   "execution_count": 49,
   "id": "0880315c",
   "metadata": {},
   "outputs": [
    {
     "name": "stdout",
     "output_type": "stream",
     "text": [
      "1\n",
      "2\n",
      "3\n",
      "4\n",
      "5\n"
     ]
    },
    {
     "data": {
      "text/html": [
       "<div>\n",
       "<style scoped>\n",
       "    .dataframe tbody tr th:only-of-type {\n",
       "        vertical-align: middle;\n",
       "    }\n",
       "\n",
       "    .dataframe tbody tr th {\n",
       "        vertical-align: top;\n",
       "    }\n",
       "\n",
       "    .dataframe thead th {\n",
       "        text-align: right;\n",
       "    }\n",
       "</style>\n",
       "<table border=\"1\" class=\"dataframe\">\n",
       "  <thead>\n",
       "    <tr style=\"text-align: right;\">\n",
       "      <th></th>\n",
       "      <th>Forward P/E</th>\n",
       "    </tr>\n",
       "  </thead>\n",
       "  <tbody>\n",
       "    <tr>\n",
       "      <th>ABMD</th>\n",
       "      <td>61.500954</td>\n",
       "    </tr>\n",
       "    <tr>\n",
       "      <th>ACN</th>\n",
       "      <td>32.837563</td>\n",
       "    </tr>\n",
       "    <tr>\n",
       "      <th>ABT</th>\n",
       "      <td>26.521551</td>\n",
       "    </tr>\n",
       "    <tr>\n",
       "      <th>MMM</th>\n",
       "      <td>18.976349</td>\n",
       "    </tr>\n",
       "    <tr>\n",
       "      <th>ABBV</th>\n",
       "      <td>8.337867</td>\n",
       "    </tr>\n",
       "  </tbody>\n",
       "</table>\n",
       "</div>"
      ],
      "text/plain": [
       "      Forward P/E\n",
       "ABMD    61.500954\n",
       "ACN     32.837563\n",
       "ABT     26.521551\n",
       "MMM     18.976349\n",
       "ABBV     8.337867"
      ]
     },
     "execution_count": 49,
     "metadata": {},
     "output_type": "execute_result"
    }
   ],
   "source": [
    "ForwardPE()"
   ]
  },
  {
   "cell_type": "code",
   "execution_count": null,
   "id": "a75e942c",
   "metadata": {},
   "outputs": [],
   "source": [
    "# def calcRSI (ticker):\n",
    "#     data = yf.download(ticker, period=\"5y\", groupby=\"Ticker\")\n",
    "#     data[\"Moving_Avg_200_Days\"] = data[\"Adj Close\"].rolling(window=200).mean()\n",
    "#     data[\"Price_Change\"] = data[\"Adj Close\"].pct_change()\n",
    "#     data[\"Gains\"] = data[\"Price_Change\"].apply(lambda x: x if x > 0 else 0)\n",
    "#     data[\"Losses\"] = data[\"Price_Change\"].apply(lambda x: abs(x) if x < 0 else 0)\n",
    "#     data[\"Avg_Up\"] = data[\"Gains\"].ewm(span=19).mean()\n",
    "#     data[\"Avg_Down\"] = data[\"Losses\"].ewm(span=19).mean()\n",
    "#     data = data.dropna()\n",
    "#     data[\"RS\"] = data[\"Avg_Up\"]/data[\"Avg_Down\"]\n",
    "#     data[\"RSI\"] = data[\"RS\"].apply(lambda x: 100 - (100/(x+1)))\n",
    "#     return data"
   ]
  },
  {
   "cell_type": "code",
   "execution_count": 42,
   "id": "e434b688",
   "metadata": {},
   "outputs": [],
   "source": [
    "def calcRSI (ticker):\n",
    "    data = yf.download(ticker, start=start_date,end=end_date, group_by=\"Ticker\")\n",
    "    data[\"Ticker\"] = ticker\n",
    "#     data[\"Moving_Avg_200_Days\"] = data[\"Adj Close\"].rolling(window=200).mean()\n",
    "    data[\"Price_Change\"] = data[\"Adj Close\"].pct_change()\n",
    "#     temp1 = data['Price_Change']\n",
    "    data['Gains'] = data.loc[:,\"Price_Change\"].apply(lambda x: x if x > 0 else 0)\n",
    "#     data[\"Gains\"] = data.iloc[:,7].apply(lambda x: x if x > 0 else 0)\n",
    "    data[\"Losses\"] = data.loc[:,\"Price_Change\"].apply(lambda x: abs(x) if x < 0 else 0)\n",
    "#     data[\"Losses\"] = data.iloc[:,7].apply(lambda x: abs(x) if x < 0 else 0)\n",
    "#     temp2 = data[\"Gains\"]\n",
    "#     temp3 = data[\"Losses\"]\n",
    "    data[\"Avg_Up\"] = data.loc[:,\"Gains\"].ewm(com=13,adjust=False, min_periods=14).mean()\n",
    "#     temp4 = data[\"Avg_Up\"]\n",
    "    data[\"Avg_Down\"] = data.loc[:, \"Losses\"].ewm(com=13,adjust=False, min_periods=14).mean()\n",
    "#     temp5 = data[\"Avg_Down\"]\n",
    "\n",
    "#     temp6 = temp4/temp5\n",
    "    data[\"RS\"] = data.loc[:, \"Avg_Up\"]/data.loc[:,\"Avg_Down\"]\n",
    "    data[\"RSI\"] = data.loc[:,\"RS\"].apply(lambda x: 100 - (100/(x+1)))\n",
    "    data = data.dropna()\n",
    "#     temp7 = data[\"RSI\"]\n",
    "#     output_df = pd.DataFrame(columns=[\"Ticker\", \"RSI\"])\n",
    "#     output_df = output_df.append({\"Ticker\" : ticker,\n",
    "#                                  \"RSI\" : temp7},\n",
    "#                                 ignore_index=True)\n",
    "    today = data.iloc[-1]\n",
    "#     output_df = pd.DataFrame(columns=[\"Ticker\",\"RSI\"])\n",
    "#     output_df = pd.merge(output_df,today[[\"Ticker\", \"RSI\"]], on=\"Ticker\", how=\"left\")\n",
    "    return today"
   ]
  },
  {
   "cell_type": "code",
   "execution_count": null,
   "id": "3e889d25",
   "metadata": {},
   "outputs": [],
   "source": [
    "calcRSI(sp500_tickers[0])"
   ]
  },
  {
   "cell_type": "code",
   "execution_count": null,
   "id": "86750959",
   "metadata": {},
   "outputs": [],
   "source": []
  },
  {
   "cell_type": "code",
   "execution_count": 51,
   "id": "52455383",
   "metadata": {},
   "outputs": [],
   "source": [
    "sp5_tickers= ['MMM', 'ABT', 'ABBV', 'ABMD', 'ACN']"
   ]
  },
  {
   "cell_type": "code",
   "execution_count": null,
   "id": "7e9fd954",
   "metadata": {},
   "outputs": [],
   "source": [
    "# join_data = pd.DataFrame(index=\"Tickers\",columns=\"RSI\")"
   ]
  },
  {
   "cell_type": "code",
   "execution_count": 54,
   "id": "b398220b",
   "metadata": {},
   "outputs": [],
   "source": [
    "def Todays_RSI_Hi():\n",
    "    stock_tick_list = []\n",
    "    stock_rsi_list = []\n",
    "    count = 0\n",
    "#     join_data = pd.DataFrame()\n",
    "    for stock in sp5_tickers:\n",
    "        stockRSI = calcRSI(stock)\n",
    "        stock_tick_list.append(stockRSI[\"Ticker\"])\n",
    "        stock_rsi_list.append(stockRSI[\"RSI\"])\n",
    "        count+=1\n",
    "        print(count)\n",
    "    rsi_df_hi = pd.DataFrame(data=(stock_rsi_list), index=stock_tick_list, columns=[\"RSI\"])\n",
    "    rsi_df_hi.sort_values(by=[\"RSI\"], ascending=False,inplace=True)\n",
    "\n",
    "    return rsi_df_hi.head()"
   ]
  },
  {
   "cell_type": "code",
   "execution_count": 55,
   "id": "e5c77bb6",
   "metadata": {},
   "outputs": [
    {
     "name": "stdout",
     "output_type": "stream",
     "text": [
      "[*********************100%***********************]  1 of 1 completed\n",
      "1\n",
      "[*********************100%***********************]  1 of 1 completed\n",
      "2\n",
      "[*********************100%***********************]  1 of 1 completed\n",
      "3\n",
      "[*********************100%***********************]  1 of 1 completed\n",
      "4\n",
      "[*********************100%***********************]  1 of 1 completed\n",
      "5\n"
     ]
    }
   ],
   "source": [
    "fig = Todays_RSI_Hi()"
   ]
  },
  {
   "cell_type": "code",
   "execution_count": 56,
   "id": "f303c794",
   "metadata": {},
   "outputs": [
    {
     "data": {
      "text/html": [
       "<div>\n",
       "<style scoped>\n",
       "    .dataframe tbody tr th:only-of-type {\n",
       "        vertical-align: middle;\n",
       "    }\n",
       "\n",
       "    .dataframe tbody tr th {\n",
       "        vertical-align: top;\n",
       "    }\n",
       "\n",
       "    .dataframe thead th {\n",
       "        text-align: right;\n",
       "    }\n",
       "</style>\n",
       "<table border=\"1\" class=\"dataframe\">\n",
       "  <thead>\n",
       "    <tr style=\"text-align: right;\">\n",
       "      <th></th>\n",
       "      <th>RSI</th>\n",
       "    </tr>\n",
       "  </thead>\n",
       "  <tbody>\n",
       "    <tr>\n",
       "      <th>ACN</th>\n",
       "      <td>68.444327</td>\n",
       "    </tr>\n",
       "    <tr>\n",
       "      <th>ABT</th>\n",
       "      <td>64.502504</td>\n",
       "    </tr>\n",
       "    <tr>\n",
       "      <th>ABBV</th>\n",
       "      <td>54.544121</td>\n",
       "    </tr>\n",
       "    <tr>\n",
       "      <th>MMM</th>\n",
       "      <td>53.640731</td>\n",
       "    </tr>\n",
       "    <tr>\n",
       "      <th>ABMD</th>\n",
       "      <td>47.793852</td>\n",
       "    </tr>\n",
       "  </tbody>\n",
       "</table>\n",
       "</div>"
      ],
      "text/plain": [
       "            RSI\n",
       "ACN   68.444327\n",
       "ABT   64.502504\n",
       "ABBV  54.544121\n",
       "MMM   53.640731\n",
       "ABMD  47.793852"
      ]
     },
     "execution_count": 56,
     "metadata": {},
     "output_type": "execute_result"
    }
   ],
   "source": [
    "fig"
   ]
  },
  {
   "cell_type": "code",
   "execution_count": 43,
   "id": "debda55a",
   "metadata": {},
   "outputs": [],
   "source": [
    "def Todays_RSI_Low():\n",
    "    stock_tick_list = []\n",
    "    stock_rsi_list = []\n",
    "    count = 0\n",
    "#     join_data = pd.DataFrame()\n",
    "    for stock in sp5_tickers:\n",
    "        stockRSI = calcRSI(stock)\n",
    "        stock_tick_list.append(stockRSI[\"Ticker\"])\n",
    "        stock_rsi_list.append(stockRSI[\"RSI\"])\n",
    "        count+=1\n",
    "        print(count)\n",
    "    rsi_df_low = pd.DataFrame(data=(stock_rsi_list), index=stock_tick_list, columns=[\"RSI\"])\n",
    "    rsi_df_low = rsi_df_low.sort_values(by=[\"RSI\"],ascending=True)\n",
    "\n",
    "    return rsi_df_low"
   ]
  },
  {
   "cell_type": "code",
   "execution_count": 44,
   "id": "e77087d5",
   "metadata": {},
   "outputs": [
    {
     "name": "stdout",
     "output_type": "stream",
     "text": [
      "[*********************100%***********************]  1 of 1 completed\n",
      "1\n",
      "[*********************100%***********************]  1 of 1 completed\n",
      "2\n",
      "[*********************100%***********************]  1 of 1 completed\n",
      "3\n",
      "[*********************100%***********************]  1 of 1 completed\n",
      "4\n",
      "[*********************100%***********************]  1 of 1 completed\n",
      "5\n"
     ]
    }
   ],
   "source": [
    "fig2 = Todays_RSI_Low()"
   ]
  },
  {
   "cell_type": "code",
   "execution_count": 45,
   "id": "ba604a0b",
   "metadata": {},
   "outputs": [
    {
     "data": {
      "text/html": [
       "<div>\n",
       "<style scoped>\n",
       "    .dataframe tbody tr th:only-of-type {\n",
       "        vertical-align: middle;\n",
       "    }\n",
       "\n",
       "    .dataframe tbody tr th {\n",
       "        vertical-align: top;\n",
       "    }\n",
       "\n",
       "    .dataframe thead th {\n",
       "        text-align: right;\n",
       "    }\n",
       "</style>\n",
       "<table border=\"1\" class=\"dataframe\">\n",
       "  <thead>\n",
       "    <tr style=\"text-align: right;\">\n",
       "      <th></th>\n",
       "      <th>RSI</th>\n",
       "    </tr>\n",
       "  </thead>\n",
       "  <tbody>\n",
       "    <tr>\n",
       "      <th>ABMD</th>\n",
       "      <td>47.793852</td>\n",
       "    </tr>\n",
       "    <tr>\n",
       "      <th>MMM</th>\n",
       "      <td>53.640731</td>\n",
       "    </tr>\n",
       "    <tr>\n",
       "      <th>ABBV</th>\n",
       "      <td>54.544121</td>\n",
       "    </tr>\n",
       "    <tr>\n",
       "      <th>ABT</th>\n",
       "      <td>64.502504</td>\n",
       "    </tr>\n",
       "    <tr>\n",
       "      <th>ACN</th>\n",
       "      <td>68.444327</td>\n",
       "    </tr>\n",
       "  </tbody>\n",
       "</table>\n",
       "</div>"
      ],
      "text/plain": [
       "            RSI\n",
       "ABMD  47.793852\n",
       "MMM   53.640731\n",
       "ABBV  54.544121\n",
       "ABT   64.502504\n",
       "ACN   68.444327"
      ]
     },
     "execution_count": 45,
     "metadata": {},
     "output_type": "execute_result"
    }
   ],
   "source": [
    "fig2"
   ]
  },
  {
   "cell_type": "code",
   "execution_count": null,
   "id": "d5364a17",
   "metadata": {},
   "outputs": [],
   "source": [
    "aapl_data = yf.download('AAPL', period=\"1mo\")\n",
    "aapl_data"
   ]
  },
  {
   "cell_type": "code",
   "execution_count": null,
   "id": "dfbfbf77",
   "metadata": {},
   "outputs": [],
   "source": [
    "aapl_data['Ticker'] = 'AAPL'\n",
    "aapl_data"
   ]
  },
  {
   "cell_type": "code",
   "execution_count": null,
   "id": "5e999b8a",
   "metadata": {},
   "outputs": [],
   "source": [
    "wmt_data = yf.download(\"WMT\", period=\"1mo\")\n",
    "wmt_data"
   ]
  },
  {
   "cell_type": "code",
   "execution_count": null,
   "id": "3423eb4a",
   "metadata": {},
   "outputs": [],
   "source": [
    "combined = pd.merge(aapl_data, wmt_data, how=\"left\", on=['Date'])"
   ]
  },
  {
   "cell_type": "code",
   "execution_count": null,
   "id": "85d84787",
   "metadata": {},
   "outputs": [],
   "source": [
    "combined"
   ]
  },
  {
   "cell_type": "code",
   "execution_count": null,
   "id": "9c19cbdb",
   "metadata": {},
   "outputs": [],
   "source": [
    "\"\""
   ]
  }
 ],
 "metadata": {
  "kernelspec": {
   "display_name": "dev",
   "language": "python",
   "name": "dev"
  },
  "language_info": {
   "codemirror_mode": {
    "name": "ipython",
    "version": 3
   },
   "file_extension": ".py",
   "mimetype": "text/x-python",
   "name": "python",
   "nbconvert_exporter": "python",
   "pygments_lexer": "ipython3",
   "version": "3.7.10"
  }
 },
 "nbformat": 4,
 "nbformat_minor": 5
}
