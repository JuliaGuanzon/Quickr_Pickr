{
 "cells": [
  {
   "cell_type": "code",
   "execution_count": 1,
   "id": "2f139779",
   "metadata": {},
   "outputs": [],
   "source": [
    "# test function call from one file to a file in another folder\n",
    "\n",
    "def display_message(name):\n",
    "    print(name + \"... a successful call to this function was made from another file\")"
   ]
  },
  {
   "cell_type": "code",
   "execution_count": null,
   "id": "0bb9343e",
   "metadata": {},
   "outputs": [],
   "source": []
  }
 ],
 "metadata": {
  "kernelspec": {
   "display_name": "Python (dev)",
   "language": "python",
   "name": "dev"
  },
  "language_info": {
   "codemirror_mode": {
    "name": "ipython",
    "version": 3
   },
   "file_extension": ".py",
   "mimetype": "text/x-python",
   "name": "python",
   "nbconvert_exporter": "python",
   "pygments_lexer": "ipython3",
   "version": "3.7.10"
  }
 },
 "nbformat": 4,
 "nbformat_minor": 5
}
