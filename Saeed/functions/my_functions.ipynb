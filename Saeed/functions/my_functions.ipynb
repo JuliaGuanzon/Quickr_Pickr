{
 "cells": [
  {
   "cell_type": "code",
   "execution_count": 1,
   "id": "6de4e4f1",
   "metadata": {},
   "outputs": [],
   "source": [
    "# http://theautomatic.net/yahoo_fin-documentation/\n",
    "# pip install yahoo-fin\n",
    "import yahoo_fin.stock_info as si\n",
    "\n",
    "# other libraries\n",
    "import pandas as pd"
   ]
  },
  {
   "cell_type": "code",
   "execution_count": 3,
   "id": "1e4d200e",
   "metadata": {},
   "outputs": [],
   "source": [
    "def get_tickers(index):\n",
    "    if index == \"dow\":\n",
    "        return si.tickers_dow()\n",
    "    elif index == \"sp500\":\n",
    "        return si.tickers_sp500()\n",
    "    else:\n",
    "        return si.tickers_nasdaq()"
   ]
  },
  {
   "cell_type": "code",
   "execution_count": 4,
   "id": "5299f121",
   "metadata": {},
   "outputs": [],
   "source": [
    "def create_dataframe(old_df, new_df):\n",
    "    for key in old_df:\n",
    "        new_df = pd.concat([new_df, old_df[key]])\n",
    "    return new_df"
   ]
  },
  {
   "cell_type": "code",
   "execution_count": null,
   "id": "361e6b45",
   "metadata": {},
   "outputs": [],
   "source": []
  }
 ],
 "metadata": {
  "kernelspec": {
   "display_name": "Python (dev)",
   "language": "python",
   "name": "dev"
  },
  "language_info": {
   "codemirror_mode": {
    "name": "ipython",
    "version": 3
   },
   "file_extension": ".py",
   "mimetype": "text/x-python",
   "name": "python",
   "nbconvert_exporter": "python",
   "pygments_lexer": "ipython3",
   "version": "3.7.10"
  }
 },
 "nbformat": 4,
 "nbformat_minor": 5
}
