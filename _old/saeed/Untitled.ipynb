{
 "cells": [
  {
   "cell_type": "code",
   "execution_count": 1,
   "id": "64905700",
   "metadata": {},
   "outputs": [],
   "source": [
    "# library information:\n",
    "\n",
    "# http://theautomatic.net/yahoo_fin-documentation/\n",
    "# pip install yahoo-fin\n",
    "import yahoo_fin.stock_info si\n",
    "\n",
    "# since functions will be in a different folder, import library to read path info\n",
    "import sys\n",
    "sys.path.append('Saeed/functions/')\n",
    "sys.path.append('Saeed/functions/utils/')\n",
    "\n",
    "# import data libraries to read date range for stock ticker historical data range\n",
    "from datetime import date\n",
    "\n",
    "# and now import my functions\n",
    "from test_sr import *"
   ]
  }
 ],
 "metadata": {
  "kernelspec": {
   "display_name": "Python (dev)",
   "language": "python",
   "name": "dev"
  },
  "language_info": {
   "codemirror_mode": {
    "name": "ipython",
    "version": 3
   },
   "file_extension": ".py",
   "mimetype": "text/x-python",
   "name": "python",
   "nbconvert_exporter": "python",
   "pygments_lexer": "ipython3",
   "version": "3.7.10"
  }
 },
 "nbformat": 4,
 "nbformat_minor": 5
}
