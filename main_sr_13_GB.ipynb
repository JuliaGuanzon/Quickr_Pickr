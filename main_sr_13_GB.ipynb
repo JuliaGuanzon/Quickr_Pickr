{
 "cells": [
  {
   "cell_type": "code",
   "execution_count": null,
   "id": "68077f3f",
   "metadata": {},
   "outputs": [],
   "source": [
    "# library information:\n",
    "\n",
    "import os\n",
    "# It is the fundamental library of python, used to perform scientific computing. \n",
    "# It provides high-performance multidimensional arrays and tools to deal with them.\n",
    "import numpy as np\n",
    "# Pandas provide high performance, fast, easy to use data structures and data analysis tools for manipulating \n",
    "# numeric data and time series. Pandas is built on the numpy library and written in languages like Python.\n",
    "import pandas as pd\n",
    "# import library to read date range for stock ticker historical data range\n",
    "import datetime\n",
    "import json\n",
    "from pathlib import Path\n",
    "import alpaca_trade_api as tradeapi\n",
    "\n",
    "from dotenv import load_dotenv\n",
    "# import ipynb.fs.full\n",
    "# https://stackoverflow.com/questions/44116194/import-a-function-from-another-ipynb-file\n",
    "# from ipynb.fs.full.test_sr import *\n",
    "# from ipynb.fs.full.date_functions import *\n",
    "# from ipynb.fs.full.my_functions import *\n",
    "\n",
    "# since functions will be in a different folder, import library to read path info\n",
    "import sys\n",
    "sys.path.append('Saeed/functions/')\n",
    "sys.path.append('Saeed/functions/utils/')\n",
    "# and now import my functions\n",
    "from test_sr import *\n",
    "from date_functions import *\n",
    "from my_functions import *\n",
    "\n",
    "# ===================================================================================================\n",
    "# http://theautomatic.net/yahoo_fin-documentation/\n",
    "# pip install yahoo-fin\n",
    "# import yahoo_fin.stock_info as si\n",
    "\n",
    "# import data libraries to read date range for stock ticker historical data range\n",
    "# from datetime import date\n",
    "\n",
    "# other libraries\n",
    "# import pandas_datareader as pdr\n",
    "%matplotlib inline\n",
    "import yfinance as yf"
   ]
  },
  {
   "cell_type": "code",
   "execution_count": null,
   "id": "5386ec52",
   "metadata": {},
   "outputs": [],
   "source": [
    "# INITIAL: Get Data\n",
    "\n",
    "# SAM: Get S&P 500 tickers\n",
    "sp500_tickers = pd.read_html(\"https://en.wikipedia.org/wiki/List_of_S%26P_500_companies\")[0]\n",
    "sp500_tickers = sp500_tickers.Symbol.to_list()\n",
    "# print(sp500_tickers)"
   ]
  },
  {
   "cell_type": "code",
   "execution_count": null,
   "id": "5443e99c",
   "metadata": {},
   "outputs": [],
   "source": [
    "# INITIAL: Get Data\n",
    "\n",
    "# SAM: Clean Tickers of periods\n",
    "sp500_tickers = [x.replace(\".\", \"-\") for x in sp500_tickers]\n",
    "# print(sp500_tickers)"
   ]
  },
  {
   "cell_type": "code",
   "execution_count": null,
   "id": "6e57ec60",
   "metadata": {},
   "outputs": [],
   "source": [
    "# INITIAL: Get Data\n",
    "\n",
    "# decipher time\n",
    "# format current date as ISO format\n",
    "this_moment = datetime.datetime.now()\n",
    "this_moment"
   ]
  },
  {
   "cell_type": "code",
   "execution_count": null,
   "id": "3b162d05",
   "metadata": {},
   "outputs": [],
   "source": [
    "# INITIAL: Get Data\n",
    "\n",
    "# decipher time\n",
    "# number of days for which we need data. for 200SMA we should atleast get 250 days\n",
    "num_of_days = 30    # 365 - Get atleast a year's worth of data.\n",
    "num_of_days"
   ]
  },
  {
   "cell_type": "code",
   "execution_count": null,
   "id": "2c9792ae",
   "metadata": {},
   "outputs": [],
   "source": [
    "# INITIAL: Get Data\n",
    "\n",
    "# decipher time\n",
    "# start date\n",
    "start_date = get_begin_date(this_moment, num_of_days)\n",
    "start_date"
   ]
  },
  {
   "cell_type": "code",
   "execution_count": null,
   "id": "c3f6cc07",
   "metadata": {},
   "outputs": [],
   "source": [
    "# INITIAL: Get Data\n",
    "\n",
    "# decipher time\n",
    "# get the end date for the date range\n",
    "finish_date = str(this_moment).split()[0]\n",
    "#finish_date\n",
    "begin_date = pd.Timestamp(start_date, tz=\"America/New_York\").isoformat()\n",
    "#begin_date\n",
    "end_date = pd.Timestamp(finish_date, tz=\"America/New_York\").isoformat()\n",
    "#end_date"
   ]
  },
  {
   "cell_type": "code",
   "execution_count": null,
   "id": "5fe90afb",
   "metadata": {},
   "outputs": [],
   "source": [
    "# INITIAL: Get Data\n",
    "\n",
    "# get tickers for \"dow\" or \"sp500\" or \"nasdaq\" one at a time\n",
    "\n",
    "# dow30 has 30 symbols\n",
    "tickers_dow = get_tickers(\"dow\")\n",
    "choice = \"dow\"\n",
    "# tickers_dow\n",
    "\n",
    "# sp500 has 505 symbols\n",
    "# tickers_sp500 = get_tickers(\"sp500\")\n",
    "# choice = \"sp500\"\n",
    "# tickers_sp500\n",
    "\n",
    "# nasdaq has 4942 symbols\n",
    "# tickers_nasdaq = get_tickers(\"nasdaq\")\n",
    "# choice = \"nasdaq\"\n",
    "# tickers_nasdaq\n",
    "\n",
    "# if we decide to use more than one market index, we must remove duplicates\n",
    "# all_tickers = list(set(tickers_dow + tickers_sp500)) \n",
    "\n",
    "# all_tickers = tickers_dow\n",
    "all_tickers = sp500_tickers\n",
    "# all_tickers = tickers_sp500\n",
    "# all_tickers = tickers_nasdaq\n",
    "# all_tickers = [\"AAPL\", \"IBM\", \"WMT\"]     # [\"AAPL\", \"V\", \"WMT\"]\n",
    "# choice = \"sample\"\n",
    "\n",
    "# print(all_tickers)\n",
    "# type(all_tickers)\n",
    "all_tickers"
   ]
  },
  {
   "cell_type": "code",
   "execution_count": null,
   "id": "1997f819",
   "metadata": {},
   "outputs": [],
   "source": [
    "selection = yf.download((all_tickers), period=\"1y\", group_by=\"ticker\")\n",
    "# 70.47 seconds\n",
    "selection"
   ]
  },
  {
   "cell_type": "code",
   "execution_count": null,
   "id": "512b36fb",
   "metadata": {},
   "outputs": [],
   "source": [
    "# INITIAL: Get Data: Save File\n",
    "\n",
    "# save the data\n",
    "# json = final_df(\"hist_data.json\")\n",
    "# save the file for future read\n",
    "with open('resources/data/hist_data.json', 'w') as outfile:\n",
    "     json.dump(selection.to_json(), outfile)"
   ]
  },
  {
   "cell_type": "code",
   "execution_count": null,
   "id": "9fa75b5b",
   "metadata": {},
   "outputs": [],
   "source": [
    "# PROCESS Data\n",
    "\n",
    "current_price = []\n",
    "dept_to_equity = []\n",
    "total_debt = []\n",
    "total_revenue = []\n",
    "market_cap = []\n",
    "\n",
    "print(\"..... Building Indicator, Please Wait .....\")\n",
    "print()\n",
    "\n",
    "count = 1\n",
    "for ticker in all_tickers:\n",
    "    print(\"count: \" + str(count) + \"  -  ticker: \" + ticker)\n",
    "    info = yf.Ticker(ticker).info\n",
    "\n",
    "    current_price.append(info[\"currentPrice\"])\n",
    "    dept_to_equity.append(info[\"debtToEquity\"])\n",
    "    total_debt.append(info[\"totalDebt\"])\n",
    "    total_revenue.append(info[\"totalRevenue\"])\n",
    "    market_cap.append(info[\"marketCap\"])\n",
    "\n",
    "    count+=1\n",
    "\n",
    "# print(current_price)\n",
    "# print(dept_to_equity)\n",
    "# print(total_debt)\n",
    "# print(total_revenue)\n",
    "# print(market_cap)\n",
    "\n",
    "df_cp = pd.DataFrame(data=current_price, index=all_tickers, columns=[\"Current Price\"])\n",
    "df_dte = pd.DataFrame(data=dept_to_equity, index=all_tickers, columns=[\"Debt To Equity\"])\n",
    "df_td = pd.DataFrame(data=total_debt, index=all_tickers, columns=[\"Total Debt\"])\n",
    "df_tr = pd.DataFrame(data=total_revenue, index=all_tickers, columns=[\"Total Revenue\"])\n",
    "df_cmc = pd.DataFrame(data=market_cap, index=all_tickers, columns=[\"Market Cap\"])\n",
    "\n",
    "# print(df_cp)\n",
    "# print(df_dte)\n",
    "# print(df_td)\n",
    "# print(df_tr)\n",
    "# print(df_cmc)"
   ]
  },
  {
   "cell_type": "code",
   "execution_count": null,
   "id": "9bb801c0",
   "metadata": {},
   "outputs": [],
   "source": [
    "# yf.Ticker(\"BAX\").info"
   ]
  },
  {
   "cell_type": "code",
   "execution_count": null,
   "id": "4b2e2091",
   "metadata": {},
   "outputs": [],
   "source": []
  }
 ],
 "metadata": {
  "kernelspec": {
   "display_name": "Python (dev)",
   "language": "python",
   "name": "dev"
  },
  "language_info": {
   "codemirror_mode": {
    "name": "ipython",
    "version": 3
   },
   "file_extension": ".py",
   "mimetype": "text/x-python",
   "name": "python",
   "nbconvert_exporter": "python",
   "pygments_lexer": "ipython3",
   "version": "3.7.10"
  }
 },
 "nbformat": 4,
 "nbformat_minor": 5
}
