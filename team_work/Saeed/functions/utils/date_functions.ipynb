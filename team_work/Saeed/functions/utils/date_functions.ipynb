{
 "cells": [
  {
   "cell_type": "code",
   "execution_count": 1,
   "id": "0d924028",
   "metadata": {},
   "outputs": [],
   "source": [
    "# import data libraries to read date range for stock ticker historical data range\n",
    "from datetime import date, timedelta"
   ]
  },
  {
   "cell_type": "code",
   "execution_count": 2,
   "id": "4e5cbad9",
   "metadata": {},
   "outputs": [],
   "source": [
    "def get_begin_date(curr_date, duration):\n",
    "    return curr_date - timedelta(duration)"
   ]
  },
  {
   "cell_type": "code",
   "execution_count": null,
   "id": "814fa90b",
   "metadata": {},
   "outputs": [],
   "source": []
  }
 ],
 "metadata": {
  "kernelspec": {
   "display_name": "Python (dev)",
   "language": "python",
   "name": "dev"
  },
  "language_info": {
   "codemirror_mode": {
    "name": "ipython",
    "version": 3
   },
   "file_extension": ".py",
   "mimetype": "text/x-python",
   "name": "python",
   "nbconvert_exporter": "python",
   "pygments_lexer": "ipython3",
   "version": "3.7.10"
  }
 },
 "nbformat": 4,
 "nbformat_minor": 5
}
