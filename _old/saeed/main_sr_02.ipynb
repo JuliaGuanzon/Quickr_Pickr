{
 "cells": [
  {
   "cell_type": "code",
   "execution_count": 1,
   "id": "cc5693a1",
   "metadata": {},
   "outputs": [],
   "source": [
    "# library information:\n",
    "\n",
    "import os\n",
    "# It is the fundamental library of python, used to perform scientific computing. \n",
    "# It provides high-performance multidimensional arrays and tools to deal with them.\n",
    "import numpy as np\n",
    "# Pandas provide high performance, fast, easy to use data structures and data analysis tools for manipulating \n",
    "# numeric data and time series. Pandas is built on the numpy library and written in languages like Python.\n",
    "import pandas as pd\n",
    "# import library to read date range for stock ticker historical data range\n",
    "import datetime\n",
    "\n",
    "import alpaca_trade_api as tradeapi\n",
    "\n",
    "from dotenv import load_dotenv\n",
    "# import ipynb.fs.full\n",
    "# https://stackoverflow.com/questions/44116194/import-a-function-from-another-ipynb-file\n",
    "# from ipynb.fs.full.test_sr import *\n",
    "# from ipynb.fs.full.date_functions import *\n",
    "# from ipynb.fs.full.my_functions import *\n",
    "\n",
    "# since functions will be in a different folder, import library to read path info\n",
    "import sys\n",
    "sys.path.append('Saeed/functions/')\n",
    "sys.path.append('Saeed/functions/utils/')\n",
    "# and now import my functions\n",
    "from test_sr import *\n",
    "from date_functions import *\n",
    "from my_functions import *\n",
    "\n",
    "# ===================================================================================================\n",
    "# http://theautomatic.net/yahoo_fin-documentation/\n",
    "# pip install yahoo-fin\n",
    "# import yahoo_fin.stock_info as si\n",
    "\n",
    "# import data libraries to read date range for stock ticker historical data range\n",
    "# from datetime import date\n",
    "\n",
    "# other libraries\n",
    "# import pandas_datareader as pdr\n",
    "# %matplotlib inline"
   ]
  },
  {
   "cell_type": "code",
   "execution_count": 2,
   "id": "0a015f2d",
   "metadata": {},
   "outputs": [
    {
     "name": "stdout",
     "output_type": "stream",
     "text": [
      "... hello from Saeed\n"
     ]
    }
   ],
   "source": [
    "# test call to function in a different folder\n",
    "display_greeting(\"Saeed\")"
   ]
  },
  {
   "cell_type": "code",
   "execution_count": 3,
   "id": "cb4952ed",
   "metadata": {},
   "outputs": [
    {
     "data": {
      "text/plain": [
       "True"
      ]
     },
     "execution_count": 3,
     "metadata": {},
     "output_type": "execute_result"
    }
   ],
   "source": [
    "# Load .env environment variables\n",
    "load_dotenv()"
   ]
  },
  {
   "cell_type": "code",
   "execution_count": 4,
   "id": "a0253ace",
   "metadata": {},
   "outputs": [],
   "source": [
    "# Set Alpaca API key and secret\n",
    "alpaca_api_key = os.getenv(\"ALPACA_API_KEY\")\n",
    "alpaca_secret_key = os.getenv(\"ALPACA_SECRET_KEY\")"
   ]
  },
  {
   "cell_type": "code",
   "execution_count": 5,
   "id": "3bdec981",
   "metadata": {},
   "outputs": [
    {
     "name": "stdout",
     "output_type": "stream",
     "text": [
      "Alpaca Key type: <class 'str'>\n",
      "Alpaca Secret Key type: <class 'str'>\n"
     ]
    }
   ],
   "source": [
    "# Verify that Alpaca key and secret were correctly loaded\n",
    "print(f\"Alpaca Key type: {type(alpaca_api_key)}\")\n",
    "print(f\"Alpaca Secret Key type: {type(alpaca_secret_key)}\")"
   ]
  },
  {
   "cell_type": "code",
   "execution_count": 15,
   "id": "a80f6222",
   "metadata": {},
   "outputs": [],
   "source": [
    "# Create the Alpaca API object\n",
    "alpaca = tradeapi.REST(\n",
    "    alpaca_api_key,\n",
    "    alpaca_secret_key,\n",
    "    api_version=\"v2\")"
   ]
  },
  {
   "cell_type": "code",
   "execution_count": 16,
   "id": "154acca6",
   "metadata": {},
   "outputs": [
    {
     "data": {
      "text/plain": [
       "datetime.datetime(2021, 8, 13, 0, 46, 7, 647253)"
      ]
     },
     "execution_count": 16,
     "metadata": {},
     "output_type": "execute_result"
    }
   ],
   "source": [
    "# format current date as ISO format\n",
    "this_moment = datetime.datetime.now()\n",
    "this_moment"
   ]
  },
  {
   "cell_type": "code",
   "execution_count": 36,
   "id": "3c84518f",
   "metadata": {},
   "outputs": [
    {
     "data": {
      "text/plain": [
       "5"
      ]
     },
     "execution_count": 36,
     "metadata": {},
     "output_type": "execute_result"
    }
   ],
   "source": [
    "# number of days for which we need data. for 200SMA we should atleast get 250 days\n",
    "num_of_days = 5    # 365 - Get atleast a year's worth of data.\n",
    "num_of_days"
   ]
  },
  {
   "cell_type": "code",
   "execution_count": 42,
   "id": "49578a97",
   "metadata": {},
   "outputs": [
    {
     "data": {
      "text/plain": [
       "'2021-08-08'"
      ]
     },
     "execution_count": 42,
     "metadata": {},
     "output_type": "execute_result"
    }
   ],
   "source": [
    "# get the begin date for the date range.\n",
    "start_date = get_begin_date(this_moment, num_of_days)\n",
    "start_date\n",
    "\n",
    "# start_date.strftime(\"%m/%d/%y\")\n",
    "# start_date = str(datetime.datetime.now() - datetime.timedelta(days=1*num_of_days))\n",
    "# start_date"
   ]
  },
  {
   "cell_type": "code",
   "execution_count": 43,
   "id": "5e0d3ce7",
   "metadata": {},
   "outputs": [
    {
     "data": {
      "text/plain": [
       "'2021-08-13'"
      ]
     },
     "execution_count": 43,
     "metadata": {},
     "output_type": "execute_result"
    }
   ],
   "source": [
    "# get the end date for the date range\n",
    "finish_date = str(this_moment).split()[0]\n",
    "finish_date\n",
    "\n",
    "# = current_date\n",
    "# end_date\n",
    "# current_date = date.today()\n",
    "# current_date.strftime(\"%m/%d/%y\")\n",
    "# end_date = current_date"
   ]
  },
  {
   "cell_type": "code",
   "execution_count": 44,
   "id": "b672dbe8",
   "metadata": {},
   "outputs": [
    {
     "data": {
      "text/plain": [
       "'2021-08-08T00:00:00-04:00'"
      ]
     },
     "execution_count": 44,
     "metadata": {},
     "output_type": "execute_result"
    }
   ],
   "source": [
    "# conver date to ISO format\n",
    "begin_date = pd.Timestamp(start_date, tz=\"America/New_York\").isoformat()\n",
    "begin_date"
   ]
  },
  {
   "cell_type": "code",
   "execution_count": 45,
   "id": "fdf99b9e",
   "metadata": {},
   "outputs": [
    {
     "data": {
      "text/plain": [
       "'2021-08-13T00:00:00-04:00'"
      ]
     },
     "execution_count": 45,
     "metadata": {},
     "output_type": "execute_result"
    }
   ],
   "source": [
    "end_date = pd.Timestamp(finish_date, tz=\"America/New_York\").isoformat()\n",
    "end_date"
   ]
  },
  {
   "cell_type": "code",
   "execution_count": 46,
   "id": "0aaf5ab5",
   "metadata": {},
   "outputs": [
    {
     "data": {
      "text/plain": [
       "['AAPL', 'V', 'WMT']"
      ]
     },
     "execution_count": 46,
     "metadata": {},
     "output_type": "execute_result"
    }
   ],
   "source": [
    "# get tickers for \"dow\" or \"sp500\" or \"nasdaq\" one at a time\n",
    "tickers_dow = get_tickers(\"dow\")\n",
    "# tickers_dow\n",
    "\n",
    "tickers_sp500 = get_tickers(\"sp500\")\n",
    "# tickers_sp500\n",
    "\n",
    "# if we decide to use more than one index, we must remove duplicates\n",
    "# all_tickers = list(set(tickers_dow + tickers_sp500)) \n",
    "# all_tickers = tickers_dow\n",
    "# all_tickers = tickers_sp500\n",
    "all_tickers = [\"AAPL\", \"V\", \"WMT\"]\n",
    "all_tickers"
   ]
  },
  {
   "cell_type": "code",
   "execution_count": 48,
   "id": "5c50fe32",
   "metadata": {},
   "outputs": [
    {
     "data": {
      "text/plain": [
       "'1D'"
      ]
     },
     "execution_count": 48,
     "metadata": {},
     "output_type": "execute_result"
    }
   ],
   "source": [
    "# Set timeframe to one day ('1D') for the Alpaca API\n",
    "timeframe = \"1D\"\n",
    "timeframe"
   ]
  },
  {
   "cell_type": "code",
   "execution_count": 50,
   "id": "7d3e7efc",
   "metadata": {},
   "outputs": [
    {
     "data": {
      "text/html": [
       "<div>\n",
       "<style scoped>\n",
       "    .dataframe tbody tr th:only-of-type {\n",
       "        vertical-align: middle;\n",
       "    }\n",
       "\n",
       "    .dataframe tbody tr th {\n",
       "        vertical-align: top;\n",
       "    }\n",
       "\n",
       "    .dataframe thead tr th {\n",
       "        text-align: left;\n",
       "    }\n",
       "\n",
       "    .dataframe thead tr:last-of-type th {\n",
       "        text-align: right;\n",
       "    }\n",
       "</style>\n",
       "<table border=\"1\" class=\"dataframe\">\n",
       "  <thead>\n",
       "    <tr>\n",
       "      <th></th>\n",
       "      <th colspan=\"5\" halign=\"left\">AAPL</th>\n",
       "      <th colspan=\"5\" halign=\"left\">V</th>\n",
       "      <th colspan=\"5\" halign=\"left\">WMT</th>\n",
       "    </tr>\n",
       "    <tr>\n",
       "      <th></th>\n",
       "      <th>open</th>\n",
       "      <th>high</th>\n",
       "      <th>low</th>\n",
       "      <th>close</th>\n",
       "      <th>volume</th>\n",
       "      <th>open</th>\n",
       "      <th>high</th>\n",
       "      <th>low</th>\n",
       "      <th>close</th>\n",
       "      <th>volume</th>\n",
       "      <th>open</th>\n",
       "      <th>high</th>\n",
       "      <th>low</th>\n",
       "      <th>close</th>\n",
       "      <th>volume</th>\n",
       "    </tr>\n",
       "    <tr>\n",
       "      <th>time</th>\n",
       "      <th></th>\n",
       "      <th></th>\n",
       "      <th></th>\n",
       "      <th></th>\n",
       "      <th></th>\n",
       "      <th></th>\n",
       "      <th></th>\n",
       "      <th></th>\n",
       "      <th></th>\n",
       "      <th></th>\n",
       "      <th></th>\n",
       "      <th></th>\n",
       "      <th></th>\n",
       "      <th></th>\n",
       "      <th></th>\n",
       "    </tr>\n",
       "  </thead>\n",
       "  <tbody>\n",
       "    <tr>\n",
       "      <th>2021-08-09 00:00:00-04:00</th>\n",
       "      <td>146.23</td>\n",
       "      <td>146.70</td>\n",
       "      <td>145.52</td>\n",
       "      <td>146.090</td>\n",
       "      <td>39789209</td>\n",
       "      <td>241.95</td>\n",
       "      <td>242.18</td>\n",
       "      <td>238.05</td>\n",
       "      <td>240.06</td>\n",
       "      <td>4266407</td>\n",
       "      <td>145.91</td>\n",
       "      <td>146.48</td>\n",
       "      <td>145.40</td>\n",
       "      <td>145.58</td>\n",
       "      <td>4670151</td>\n",
       "    </tr>\n",
       "    <tr>\n",
       "      <th>2021-08-10 00:00:00-04:00</th>\n",
       "      <td>146.46</td>\n",
       "      <td>147.71</td>\n",
       "      <td>145.30</td>\n",
       "      <td>145.610</td>\n",
       "      <td>58788673</td>\n",
       "      <td>240.41</td>\n",
       "      <td>241.34</td>\n",
       "      <td>235.56</td>\n",
       "      <td>238.10</td>\n",
       "      <td>6516750</td>\n",
       "      <td>146.99</td>\n",
       "      <td>148.95</td>\n",
       "      <td>146.25</td>\n",
       "      <td>148.68</td>\n",
       "      <td>11676139</td>\n",
       "    </tr>\n",
       "    <tr>\n",
       "      <th>2021-08-11 00:00:00-04:00</th>\n",
       "      <td>146.07</td>\n",
       "      <td>146.72</td>\n",
       "      <td>145.53</td>\n",
       "      <td>145.910</td>\n",
       "      <td>44305648</td>\n",
       "      <td>238.08</td>\n",
       "      <td>238.36</td>\n",
       "      <td>234.58</td>\n",
       "      <td>235.05</td>\n",
       "      <td>6683179</td>\n",
       "      <td>149.51</td>\n",
       "      <td>151.58</td>\n",
       "      <td>149.16</td>\n",
       "      <td>150.01</td>\n",
       "      <td>12852300</td>\n",
       "    </tr>\n",
       "    <tr>\n",
       "      <th>2021-08-12 00:00:00-04:00</th>\n",
       "      <td>146.20</td>\n",
       "      <td>149.05</td>\n",
       "      <td>145.84</td>\n",
       "      <td>148.885</td>\n",
       "      <td>65367573</td>\n",
       "      <td>233.97</td>\n",
       "      <td>234.11</td>\n",
       "      <td>231.02</td>\n",
       "      <td>231.82</td>\n",
       "      <td>9046538</td>\n",
       "      <td>149.09</td>\n",
       "      <td>150.21</td>\n",
       "      <td>148.81</td>\n",
       "      <td>149.06</td>\n",
       "      <td>5608125</td>\n",
       "    </tr>\n",
       "  </tbody>\n",
       "</table>\n",
       "</div>"
      ],
      "text/plain": [
       "                             AAPL                                          V  \\\n",
       "                             open    high     low    close    volume    open   \n",
       "time                                                                           \n",
       "2021-08-09 00:00:00-04:00  146.23  146.70  145.52  146.090  39789209  241.95   \n",
       "2021-08-10 00:00:00-04:00  146.46  147.71  145.30  145.610  58788673  240.41   \n",
       "2021-08-11 00:00:00-04:00  146.07  146.72  145.53  145.910  44305648  238.08   \n",
       "2021-08-12 00:00:00-04:00  146.20  149.05  145.84  148.885  65367573  233.97   \n",
       "\n",
       "                                                               WMT          \\\n",
       "                             high     low   close   volume    open    high   \n",
       "time                                                                         \n",
       "2021-08-09 00:00:00-04:00  242.18  238.05  240.06  4266407  145.91  146.48   \n",
       "2021-08-10 00:00:00-04:00  241.34  235.56  238.10  6516750  146.99  148.95   \n",
       "2021-08-11 00:00:00-04:00  238.36  234.58  235.05  6683179  149.51  151.58   \n",
       "2021-08-12 00:00:00-04:00  234.11  231.02  231.82  9046538  149.09  150.21   \n",
       "\n",
       "                                                     \n",
       "                              low   close    volume  \n",
       "time                                                 \n",
       "2021-08-09 00:00:00-04:00  145.40  145.58   4670151  \n",
       "2021-08-10 00:00:00-04:00  146.25  148.68  11676139  \n",
       "2021-08-11 00:00:00-04:00  149.16  150.01  12852300  \n",
       "2021-08-12 00:00:00-04:00  148.81  149.06   5608125  "
      ]
     },
     "execution_count": 50,
     "metadata": {},
     "output_type": "execute_result"
    }
   ],
   "source": [
    "# Get current closing prices for FB and TWTR\n",
    "df_historical_data = alpaca.get_barset(\n",
    "    all_tickers,\n",
    "    timeframe,\n",
    "    start = begin_date,\n",
    "    end = end_date\n",
    ").df\n",
    "\n",
    "# Display sample data\n",
    "df_historical_data"
   ]
  },
  {
   "cell_type": "code",
   "execution_count": 27,
   "id": "7293483a",
   "metadata": {},
   "outputs": [],
   "source": [
    "# create a blank dictionary\n",
    "historical_data_for_all_tickers = {}\n",
    "\n",
    "# myData = pdr.get_data_yahoo('AAPL', start_date)\n",
    "# myData\n",
    "\n",
    "# iterate for each ticker\n",
    "for ticker in all_tickers:\n",
    "#    historical_data_for_all_tickers[ticker] = si.get_data(ticker, start_date = '07/01/2021',  end_date = '08/10/2021')\n",
    "     historical_data_for_all_tickers[ticker] = si.get_data(ticker, begin_date,  end_date)\n",
    "# historical_data_for_all_tickers"
   ]
  },
  {
   "cell_type": "code",
   "execution_count": 28,
   "id": "93e32919",
   "metadata": {},
   "outputs": [
    {
     "data": {
      "text/html": [
       "<div>\n",
       "<style scoped>\n",
       "    .dataframe tbody tr th:only-of-type {\n",
       "        vertical-align: middle;\n",
       "    }\n",
       "\n",
       "    .dataframe tbody tr th {\n",
       "        vertical-align: top;\n",
       "    }\n",
       "\n",
       "    .dataframe thead th {\n",
       "        text-align: right;\n",
       "    }\n",
       "</style>\n",
       "<table border=\"1\" class=\"dataframe\">\n",
       "  <thead>\n",
       "    <tr style=\"text-align: right;\">\n",
       "      <th></th>\n",
       "      <th>open</th>\n",
       "      <th>high</th>\n",
       "      <th>low</th>\n",
       "      <th>close</th>\n",
       "      <th>adjclose</th>\n",
       "      <th>volume</th>\n",
       "      <th>ticker</th>\n",
       "    </tr>\n",
       "  </thead>\n",
       "  <tbody>\n",
       "    <tr>\n",
       "      <th>2021-08-09</th>\n",
       "      <td>146.199997</td>\n",
       "      <td>146.699997</td>\n",
       "      <td>145.520004</td>\n",
       "      <td>146.089996</td>\n",
       "      <td>146.089996</td>\n",
       "      <td>48908700</td>\n",
       "      <td>AAPL</td>\n",
       "    </tr>\n",
       "    <tr>\n",
       "      <th>2021-08-10</th>\n",
       "      <td>146.440002</td>\n",
       "      <td>147.710007</td>\n",
       "      <td>145.300003</td>\n",
       "      <td>145.600006</td>\n",
       "      <td>145.600006</td>\n",
       "      <td>68922200</td>\n",
       "      <td>AAPL</td>\n",
       "    </tr>\n",
       "    <tr>\n",
       "      <th>2021-08-11</th>\n",
       "      <td>146.050003</td>\n",
       "      <td>146.720001</td>\n",
       "      <td>145.529999</td>\n",
       "      <td>145.860001</td>\n",
       "      <td>145.860001</td>\n",
       "      <td>48422100</td>\n",
       "      <td>AAPL</td>\n",
       "    </tr>\n",
       "    <tr>\n",
       "      <th>2021-08-12</th>\n",
       "      <td>146.190002</td>\n",
       "      <td>149.050003</td>\n",
       "      <td>145.839996</td>\n",
       "      <td>148.889999</td>\n",
       "      <td>148.889999</td>\n",
       "      <td>72282600</td>\n",
       "      <td>AAPL</td>\n",
       "    </tr>\n",
       "    <tr>\n",
       "      <th>2021-08-09</th>\n",
       "      <td>230.520004</td>\n",
       "      <td>231.399994</td>\n",
       "      <td>227.220001</td>\n",
       "      <td>227.889999</td>\n",
       "      <td>227.889999</td>\n",
       "      <td>2250300</td>\n",
       "      <td>AMGN</td>\n",
       "    </tr>\n",
       "    <tr>\n",
       "      <th>...</th>\n",
       "      <td>...</td>\n",
       "      <td>...</td>\n",
       "      <td>...</td>\n",
       "      <td>...</td>\n",
       "      <td>...</td>\n",
       "      <td>...</td>\n",
       "      <td>...</td>\n",
       "    </tr>\n",
       "    <tr>\n",
       "      <th>2021-08-12</th>\n",
       "      <td>50.000000</td>\n",
       "      <td>50.070000</td>\n",
       "      <td>49.080002</td>\n",
       "      <td>49.320000</td>\n",
       "      <td>49.320000</td>\n",
       "      <td>3631100</td>\n",
       "      <td>WBA</td>\n",
       "    </tr>\n",
       "    <tr>\n",
       "      <th>2021-08-09</th>\n",
       "      <td>145.910004</td>\n",
       "      <td>146.479996</td>\n",
       "      <td>145.399994</td>\n",
       "      <td>145.580002</td>\n",
       "      <td>145.046249</td>\n",
       "      <td>5270600</td>\n",
       "      <td>WMT</td>\n",
       "    </tr>\n",
       "    <tr>\n",
       "      <th>2021-08-10</th>\n",
       "      <td>146.970001</td>\n",
       "      <td>148.949997</td>\n",
       "      <td>146.250000</td>\n",
       "      <td>148.679993</td>\n",
       "      <td>148.134872</td>\n",
       "      <td>12721500</td>\n",
       "      <td>WMT</td>\n",
       "    </tr>\n",
       "    <tr>\n",
       "      <th>2021-08-11</th>\n",
       "      <td>149.509995</td>\n",
       "      <td>151.580002</td>\n",
       "      <td>149.160004</td>\n",
       "      <td>150.009995</td>\n",
       "      <td>149.459991</td>\n",
       "      <td>13814400</td>\n",
       "      <td>WMT</td>\n",
       "    </tr>\n",
       "    <tr>\n",
       "      <th>2021-08-12</th>\n",
       "      <td>149.000000</td>\n",
       "      <td>150.210007</td>\n",
       "      <td>148.809998</td>\n",
       "      <td>149.059998</td>\n",
       "      <td>149.059998</td>\n",
       "      <td>6089700</td>\n",
       "      <td>WMT</td>\n",
       "    </tr>\n",
       "  </tbody>\n",
       "</table>\n",
       "<p>120 rows × 7 columns</p>\n",
       "</div>"
      ],
      "text/plain": [
       "                  open        high         low       close    adjclose  \\\n",
       "2021-08-09  146.199997  146.699997  145.520004  146.089996  146.089996   \n",
       "2021-08-10  146.440002  147.710007  145.300003  145.600006  145.600006   \n",
       "2021-08-11  146.050003  146.720001  145.529999  145.860001  145.860001   \n",
       "2021-08-12  146.190002  149.050003  145.839996  148.889999  148.889999   \n",
       "2021-08-09  230.520004  231.399994  227.220001  227.889999  227.889999   \n",
       "...                ...         ...         ...         ...         ...   \n",
       "2021-08-12   50.000000   50.070000   49.080002   49.320000   49.320000   \n",
       "2021-08-09  145.910004  146.479996  145.399994  145.580002  145.046249   \n",
       "2021-08-10  146.970001  148.949997  146.250000  148.679993  148.134872   \n",
       "2021-08-11  149.509995  151.580002  149.160004  150.009995  149.459991   \n",
       "2021-08-12  149.000000  150.210007  148.809998  149.059998  149.059998   \n",
       "\n",
       "              volume ticker  \n",
       "2021-08-09  48908700   AAPL  \n",
       "2021-08-10  68922200   AAPL  \n",
       "2021-08-11  48422100   AAPL  \n",
       "2021-08-12  72282600   AAPL  \n",
       "2021-08-09   2250300   AMGN  \n",
       "...              ...    ...  \n",
       "2021-08-12   3631100    WBA  \n",
       "2021-08-09   5270600    WMT  \n",
       "2021-08-10  12721500    WMT  \n",
       "2021-08-11  13814400    WMT  \n",
       "2021-08-12   6089700    WMT  \n",
       "\n",
       "[120 rows x 7 columns]"
      ]
     },
     "execution_count": 28,
     "metadata": {},
     "output_type": "execute_result"
    }
   ],
   "source": [
    "# convert to data frame\n",
    "df = pd.DataFrame(columns = ['open', 'high', 'low', 'close', 'adjclose', 'volume', 'ticker'])\n",
    "\n",
    "df_hist_date_all_tickers = create_dataframe(historical_data_for_all_tickers, df)\n",
    "df_hist_date_all_tickers"
   ]
  },
  {
   "cell_type": "code",
   "execution_count": null,
   "id": "5a9490dd",
   "metadata": {},
   "outputs": [],
   "source": [
    "# a = np.array(['a', 'b', 'c', 'd'])\n",
    "\n",
    "# ser = pd.Series(a)\n",
    "# ser\n",
    "\n",
    "# df1 = {\n",
    "#     \"AAPL\": {\n",
    "#     \"open\": [1,2,3,4,5,6,7,8,9]\n",
    "#     \"close\": [2,3,4,5,6,7,8,9,1]}\n",
    "#     \"MSFT\": \n",
    "#     {\"open\": [1,2,3,4,5,6,7,8,9]\n",
    "#     \"close\": [2,3,4,5,6,7,8,9,1]}\n",
    "# }\n",
    "\n",
    "# df1"
   ]
  },
  {
   "cell_type": "code",
   "execution_count": null,
   "id": "f68c40a5",
   "metadata": {},
   "outputs": [],
   "source": []
  }
 ],
 "metadata": {
  "kernelspec": {
   "display_name": "Python (dev)",
   "language": "python",
   "name": "dev"
  },
  "language_info": {
   "codemirror_mode": {
    "name": "ipython",
    "version": 3
   },
   "file_extension": ".py",
   "mimetype": "text/x-python",
   "name": "python",
   "nbconvert_exporter": "python",
   "pygments_lexer": "ipython3",
   "version": "3.7.10"
  }
 },
 "nbformat": 4,
 "nbformat_minor": 5
}
