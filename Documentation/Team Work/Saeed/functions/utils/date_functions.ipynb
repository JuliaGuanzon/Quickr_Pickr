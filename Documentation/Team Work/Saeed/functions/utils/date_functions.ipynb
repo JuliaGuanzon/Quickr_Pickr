{
 "cells": [
  {
   "cell_type": "code",
   "execution_count": 3,
   "id": "12cf7c93",
   "metadata": {},
   "outputs": [],
   "source": [
    "# import data libraries to read date range for stock ticker historical data range\n",
    "# from datetime import date, timedelta\n",
    "from datetime import *"
   ]
  },
  {
   "cell_type": "code",
   "execution_count": 6,
   "id": "c7c4bfcf",
   "metadata": {},
   "outputs": [],
   "source": [
    "def get_begin_date(curr_date, duration):\n",
    "    return curr_date - timedelta(duration)"
   ]
  },
  {
   "cell_type": "code",
   "execution_count": 7,
   "id": "b7dba4d1",
   "metadata": {},
   "outputs": [],
   "source": [
    "def get_present_time():\n",
    "    now_1 = datetime.now()\n",
    "    return now_1.strftime(\"%H:%M:%S\")"
   ]
  },
  {
   "cell_type": "code",
   "execution_count": null,
   "id": "b7caa3f8",
   "metadata": {},
   "outputs": [],
   "source": []
  }
 ],
 "metadata": {
  "kernelspec": {
   "display_name": "Python (dev)",
   "language": "python",
   "name": "dev"
  },
  "language_info": {
   "codemirror_mode": {
    "name": "ipython",
    "version": 3
   },
   "file_extension": ".py",
   "mimetype": "text/x-python",
   "name": "python",
   "nbconvert_exporter": "python",
   "pygments_lexer": "ipython3",
   "version": "3.7.10"
  }
 },
 "nbformat": 4,
 "nbformat_minor": 5
}
