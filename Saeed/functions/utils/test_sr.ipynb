{
 "cells": [
  {
   "cell_type": "code",
   "execution_count": 1,
   "id": "d55dfa16",
   "metadata": {},
   "outputs": [],
   "source": [
    "# test function call\n",
    "\n",
    "def display_greeting(name):\n",
    "    print(\"... hello from \" + name)"
   ]
  },
  {
   "cell_type": "code",
   "execution_count": null,
   "id": "1d57934e",
   "metadata": {},
   "outputs": [],
   "source": []
  }
 ],
 "metadata": {
  "kernelspec": {
   "display_name": "Python (dev)",
   "language": "python",
   "name": "dev"
  },
  "language_info": {
   "codemirror_mode": {
    "name": "ipython",
    "version": 3
   },
   "file_extension": ".py",
   "mimetype": "text/x-python",
   "name": "python",
   "nbconvert_exporter": "python",
   "pygments_lexer": "ipython3",
   "version": "3.7.10"
  }
 },
 "nbformat": 4,
 "nbformat_minor": 5
}
