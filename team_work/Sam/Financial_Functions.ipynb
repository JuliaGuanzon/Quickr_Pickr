{
 "cells": [
  {
   "cell_type": "code",
   "execution_count": 16,
   "source": [
    "# Import necessary libraries\r\n",
    "import pandas as pd\r\n",
    "import yfinance as yf\r\n",
    "import datetime as dt\r\n",
    "import numpy as np\r\n",
    "from pathlib import Path\r\n",
    "from termcolor import colored as cl\r\n",
    "import matplotlib.pyplot as plt\r\n",
    "\r\n",
    "plt.rcParams['figure.figsize'] = (20, 10)\r\n",
    "plt.style.use('fivethirtyeight')"
   ],
   "outputs": [],
   "metadata": {}
  },
  {
   "cell_type": "code",
   "execution_count": 17,
   "source": [
    "# Get advanced info for a particular stock\r\n",
    "def get_info(ticker):\r\n",
    "    info = yf.Ticker(ticker).info\r\n",
    "    \r\n",
    "    return info"
   ],
   "outputs": [],
   "metadata": {}
  },
  {
   "cell_type": "code",
   "execution_count": 18,
   "source": [
    "# All Short-Term indicators calculated in one function\r\n",
    "def calc_indicators (ticker):\r\n",
    "# Downloads the data for each stock\r\n",
    "    data = yf.download(ticker, period=\"6mo\")\r\n",
    "    data[\"Ticker\"] = ticker\r\n",
    "# Gets the moving average over the last 12 and 26 days\r\n",
    "    data[\"MA12\"] = data.Close.ewm(span=12).mean()\r\n",
    "    data[\"MA26\"] = data.Close.ewm(span=26).mean()\r\n",
    "# Calculates MACD, Signal, and HIST Values\r\n",
    "    data[\"MACD\"] = data.MA12 - data.MA26\r\n",
    "    data[\"Signal\"] = data.loc[:,\"MACD\"].ewm(span=9).mean()\r\n",
    "    data[\"HIST\"] = data.loc[:,\"MACD\"] - data.loc[:, \"Signal\"]\r\n",
    "# 50 day Simple Moving Average\r\n",
    "    data[\"SMA50\"] = data.loc[:,\"Close\"].rolling(window=50).mean()\r\n",
    "    data[\"SMA50%\"] = ((data.loc[:,\"Close\"] - data.loc[:, \"SMA50\"])/data.loc[:, \"SMA50\"])*100\r\n",
    "# RSI Calculations\r\n",
    "    data[\"Price_Change\"] = data[\"Adj Close\"].pct_change()\r\n",
    "    data['Gains'] = data.loc[:,\"Price_Change\"].apply(lambda x: x if x > 0 else 0)\r\n",
    "    data[\"Losses\"] = data.loc[:,\"Price_Change\"].apply(lambda x: abs(x) if x < 0 else 0)\r\n",
    "    data[\"Avg_Up\"] = data.loc[:,\"Gains\"].ewm(com=13,adjust=False, min_periods=14).mean()\r\n",
    "    data[\"Avg_Down\"] = data.loc[:, \"Losses\"].ewm(com=13,adjust=False, min_periods=14).mean()\r\n",
    "    data[\"RS\"] = data.loc[:, \"Avg_Up\"]/data.loc[:,\"Avg_Down\"]\r\n",
    "    data[\"RSI\"] = data.loc[:,\"RS\"].apply(lambda x: 100 - (100/(x+1)))\r\n",
    "    data = data.dropna()\r\n",
    "    \r\n",
    "    return data"
   ],
   "outputs": [],
   "metadata": {}
  },
  {
   "cell_type": "code",
   "execution_count": 19,
   "source": [
    "# Creates a chart of prices, MACD, Signal line, and bar graph of the hist\r\n",
    "def get_chart(ticker):\r\n",
    "# Makes an api call via calc_indicators for the historical and indicator data\r\n",
    "    df = calc_indicators(ticker)\r\n",
    "# Makes 2 plots, the price on top and the MACD, Signal line, and hist on bottom\r\n",
    "    ax1 = plt.subplot2grid((8,1), (0,0), rowspan = 5, colspan = 1)\r\n",
    "    ax2 = plt.subplot2grid((7,1), (5,0), rowspan = 3, colspan = 1)\r\n",
    "\r\n",
    "    ax1.plot(df.Close)\r\n",
    "    ax2.plot(df.MACD, color = 'black', linewidth = 1.5, label = 'MACD')\r\n",
    "    ax2.plot(df.Signal, color = 'violet', linewidth = 1.5, label = 'SIGNAL')\r\n",
    "# Plots the bar graph on within the second plot, showing different colors for positive and negative values\r\n",
    "    for i in range(len(df.Close)):\r\n",
    "        if str(df.HIST[i])[0] == '-':\r\n",
    "            ax2.bar(df.Close.index[i], df.HIST[i], color = 'red')\r\n",
    "        else:\r\n",
    "            ax2.bar(df.Close.index[i], df.HIST[i], color = 'green')\r\n",
    "\r\n",
    "    plt.legend(loc = 'lower right')"
   ],
   "outputs": [],
   "metadata": {}
  },
  {
   "cell_type": "code",
   "execution_count": 20,
   "source": [
    "# Get S&P 500 tickers\r\n",
    "def get_ticks():\r\n",
    "    sp500_tickers = pd.read_html(\"https://en.wikipedia.org/wiki/List_of_S%26P_500_companies\")[0]\r\n",
    "    sp500_tickers = sp500_tickers.Symbol.to_list()\r\n",
    "    sp500_tickers = [x.replace(\".\", \"-\") for x in sp500_tickers]\r\n",
    "    \r\n",
    "    return sp500_tickers"
   ],
   "outputs": [],
   "metadata": {}
  },
  {
   "cell_type": "code",
   "execution_count": 21,
   "source": [
    "stock_list = [\"AAPL\", \"WMT\", \"GOOG\"]"
   ],
   "outputs": [],
   "metadata": {}
  },
  {
   "cell_type": "code",
   "execution_count": 22,
   "source": [
    "# Uses calc_indicators to get Today's Values for S&P 500\r\n",
    "def todays_indicators(stock_list):\r\n",
    "# Create Empty lists our desired values will end up in\r\n",
    "    stock_tick_list = []\r\n",
    "    stock_rsi_list = []\r\n",
    "    macd_list = []\r\n",
    "    sig_list = []\r\n",
    "    hist_list = []\r\n",
    "    sma_pct = []\r\n",
    "# Add a count so the user can know how far along they are   \r\n",
    "    count = 0\r\n",
    "# Iterate through the S&P 500, appending each list with the appropriate value for the most recent close\r\n",
    "    for stock in stock_list:\r\n",
    "        stock_indicators = calc_indicators(stock)\r\n",
    "        today = stock_indicators.iloc[-1]\r\n",
    "        stock_tick_list.append(today[\"Ticker\"])\r\n",
    "        stock_rsi_list.append(today[\"RSI\"])\r\n",
    "        macd_list.append(today[\"MACD\"])\r\n",
    "        sig_list.append(today[\"Signal\"])\r\n",
    "        hist_list.append(today[\"HIST\"])\r\n",
    "        sma_pct.append(today[\"SMA50%\"])\r\n",
    "        count+=1\r\n",
    "        print(count)\r\n",
    "    frames = {\"RSI\" : stock_rsi_list,\r\n",
    "             \"MACD\": macd_list,\r\n",
    "             \"Signal\": sig_list,\r\n",
    "             \"HIST\" : hist_list,\r\n",
    "             \"SMA50%\": sma_pct}\r\n",
    "    today_df = pd.DataFrame(data=frames, index=stock_tick_list)\r\n",
    "    \r\n",
    "    return today_df"
   ],
   "outputs": [],
   "metadata": {}
  },
  {
   "cell_type": "code",
   "execution_count": 23,
   "source": [
    "today_df = todays_indicators(stock_list)"
   ],
   "outputs": [
    {
     "output_type": "stream",
     "name": "stdout",
     "text": [
      "[*********************100%***********************]  1 of 1 completed\n",
      "1\n",
      "[*********************100%***********************]  1 of 1 completed\n",
      "2\n",
      "[*********************100%***********************]  1 of 1 completed\n",
      "3\n"
     ]
    }
   ],
   "metadata": {}
  },
  {
   "cell_type": "code",
   "execution_count": 24,
   "source": [
    "today_df"
   ],
   "outputs": [
    {
     "output_type": "execute_result",
     "data": {
      "text/plain": [
       "            RSI       MACD     Signal      HIST    SMA50%\n",
       "AAPL  52.736484   1.814686   2.049647 -0.234961  3.480702\n",
       "WMT   68.609106   2.456639   2.012520  0.444119  5.162487\n",
       "GOOG  56.554342  36.941535  44.327455 -7.385920  3.721697"
      ],
      "text/html": [
       "<div>\n",
       "<style scoped>\n",
       "    .dataframe tbody tr th:only-of-type {\n",
       "        vertical-align: middle;\n",
       "    }\n",
       "\n",
       "    .dataframe tbody tr th {\n",
       "        vertical-align: top;\n",
       "    }\n",
       "\n",
       "    .dataframe thead th {\n",
       "        text-align: right;\n",
       "    }\n",
       "</style>\n",
       "<table border=\"1\" class=\"dataframe\">\n",
       "  <thead>\n",
       "    <tr style=\"text-align: right;\">\n",
       "      <th></th>\n",
       "      <th>RSI</th>\n",
       "      <th>MACD</th>\n",
       "      <th>Signal</th>\n",
       "      <th>HIST</th>\n",
       "      <th>SMA50%</th>\n",
       "    </tr>\n",
       "  </thead>\n",
       "  <tbody>\n",
       "    <tr>\n",
       "      <th>AAPL</th>\n",
       "      <td>52.736484</td>\n",
       "      <td>1.814686</td>\n",
       "      <td>2.049647</td>\n",
       "      <td>-0.234961</td>\n",
       "      <td>3.480702</td>\n",
       "    </tr>\n",
       "    <tr>\n",
       "      <th>WMT</th>\n",
       "      <td>68.609106</td>\n",
       "      <td>2.456639</td>\n",
       "      <td>2.012520</td>\n",
       "      <td>0.444119</td>\n",
       "      <td>5.162487</td>\n",
       "    </tr>\n",
       "    <tr>\n",
       "      <th>GOOG</th>\n",
       "      <td>56.554342</td>\n",
       "      <td>36.941535</td>\n",
       "      <td>44.327455</td>\n",
       "      <td>-7.385920</td>\n",
       "      <td>3.721697</td>\n",
       "    </tr>\n",
       "  </tbody>\n",
       "</table>\n",
       "</div>"
      ]
     },
     "metadata": {},
     "execution_count": 24
    }
   ],
   "metadata": {}
  },
  {
   "cell_type": "code",
   "execution_count": 11,
   "source": [
    "# Sorts today_df by the indicator chosen by questionary. todays_calculations must be saved into today_df!\r\n",
    "def sort_indicators(today_df, indicator):\r\n",
    "    if indicator == \"High RSI\":\r\n",
    "        today_df.sort_values(by=[\"RSI\"], ascending=False,inplace=True)\r\n",
    "    elif indicator == \"Low RSI\":\r\n",
    "        today_df.sort_values(by=[\"RSI\"], ascending=True,inplace=True)\r\n",
    "    elif indicator == \"High MACD\":\r\n",
    "        today_df.sort_values(by=[\"HIST\"], ascending=False, inplace=True)\r\n",
    "    elif indicator == \"Low MACD\":\r\n",
    "        today_df.sort_values(by=[\"HIST\"], ascending=True, inplace=True)\r\n",
    "    elif indicator == \"High SMA50%\":\r\n",
    "        today_df.sort_values(by=[\"SMA50%\"], ascending=False, inplace=True)\r\n",
    "    elif indicator == \"Low SMA50%\":\r\n",
    "        today_df.sort_values(by=[\"SMA50%\"], ascending=True, inplace=True)\r\n",
    "    elif indicator == \"Low MACD Divergence\":\r\n",
    "        divergence = [abs(i) for (i) in today_df.HIST]\r\n",
    "        today_df[\"Divergence\"] = divergence\r\n",
    "        today_df.sort_values(by=[\"Divergence\"], ascending=True, inplace=True)\r\n",
    "        \r\n",
    "    return today_df"
   ],
   "outputs": [],
   "metadata": {}
  },
  {
   "cell_type": "code",
   "execution_count": 12,
   "source": [
    "# Start and End Dates (6 months)\r\n",
    "def get_dates():\r\n",
    "    end_date = dt.datetime.now().date().isoformat()\r\n",
    "    start_date = dt.datetime.now() - dt.timedelta(weeks=26)\r\n",
    "    start_date = start_date.date().isoformat()\r\n",
    "    \r\n",
    "    return start_date, end_date"
   ],
   "outputs": [],
   "metadata": {}
  },
  {
   "cell_type": "code",
   "execution_count": 13,
   "source": [
    "# Getting the Forward P/E \r\n",
    "# def ForwardPE():\r\n",
    "#     tick_list = []\r\n",
    "#     forwardPE = []\r\n",
    "#     count = 0\r\n",
    "#     for ticker in sp500_tickers:\r\n",
    "#         info = yf.Ticker(ticker).info\r\n",
    "#         info[\"Ticker\"] = ticker\r\n",
    "#         forwardPE.append(info[\"forwardPE\"])\r\n",
    "#         tick_list.append(info[\"Ticker\"])\r\n",
    "#         count+=1\r\n",
    "#         print(count)\r\n",
    "#     pe_df = pd.DataFrame(data=forwardPE, index=tick_list, columns=[\"Forward P/E\"])\r\n",
    "#     pe_df.sort_values(by=\"Forward P/E\", ascending=False, inplace=True)\r\n",
    "    \r\n",
    "#     return pe_df"
   ],
   "outputs": [],
   "metadata": {}
  },
  {
   "cell_type": "code",
   "execution_count": 14,
   "source": [
    "# # Calculating today's RSI\r\n",
    "# def calcRSI (ticker):\r\n",
    "#     data = yf.download(ticker, start=start_date,end=end_date, group_by=\"Ticker\")\r\n",
    "#     data[\"Ticker\"] = ticker\r\n",
    "#     data[\"Price_Change\"] = data[\"Adj Close\"].pct_change()\r\n",
    "#     data['Gains'] = data.loc[:,\"Price_Change\"].apply(lambda x: x if x > 0 else 0)\r\n",
    "#     data[\"Losses\"] = data.loc[:,\"Price_Change\"].apply(lambda x: abs(x) if x < 0 else 0)\r\n",
    "#     data[\"Avg_Up\"] = data.loc[:,\"Gains\"].ewm(com=13,adjust=False, min_periods=14).mean()\r\n",
    "#     data[\"Avg_Down\"] = data.loc[:, \"Losses\"].ewm(com=13,adjust=False, min_periods=14).mean()\r\n",
    "#     data[\"RS\"] = data.loc[:, \"Avg_Up\"]/data.loc[:,\"Avg_Down\"]\r\n",
    "#     data[\"RSI\"] = data.loc[:,\"RS\"].apply(lambda x: 100 - (100/(x+1)))\r\n",
    "#     data = data.dropna()\r\n",
    "\r\n",
    "#     today = data.iloc[-1]\r\n",
    "\r\n",
    "#     return today"
   ],
   "outputs": [],
   "metadata": {}
  },
  {
   "cell_type": "code",
   "execution_count": 15,
   "source": [
    "# # Getting today's RSI for S&P 500\r\n",
    "# def Todays_RSI_Hi():\r\n",
    "#     stock_tick_list = []\r\n",
    "#     stock_rsi_list = []\r\n",
    "#     count = 0\r\n",
    "# #     join_data = pd.DataFrame()\r\n",
    "#     for stock in sp500_tickers:\r\n",
    "#         stockRSI = calcRSI(stock)\r\n",
    "#         stock_tick_list.append(stockRSI[\"Ticker\"])\r\n",
    "#         stock_rsi_list.append(stockRSI[\"RSI\"])\r\n",
    "#         count+=1\r\n",
    "#         print(count)\r\n",
    "#     rsi_df_hi = pd.DataFrame(data=(stock_rsi_list), index=stock_tick_list, columns=[\"RSI\"])\r\n",
    "#     rsi_df_hi.sort_values(by=[\"RSI\"], ascending=False,inplace=True)\r\n",
    "\r\n",
    "#     return rsi_df_hi"
   ],
   "outputs": [],
   "metadata": {}
  }
 ],
 "metadata": {
  "kernelspec": {
   "name": "python3",
   "display_name": "Python 3.7.10 64-bit ('dev': conda)"
  },
  "language_info": {
   "codemirror_mode": {
    "name": "ipython",
    "version": 3
   },
   "file_extension": ".py",
   "mimetype": "text/x-python",
   "name": "python",
   "nbconvert_exporter": "python",
   "pygments_lexer": "ipython3",
   "version": "3.7.10"
  },
  "interpreter": {
   "hash": "12b7dd2e05de763ecabadc313a070634c1206c37af4eb1bfc671151c1a59b027"
  }
 },
 "nbformat": 4,
 "nbformat_minor": 5
}