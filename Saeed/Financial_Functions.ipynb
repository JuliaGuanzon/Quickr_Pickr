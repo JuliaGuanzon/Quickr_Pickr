{
 "cells": [
  {
   "cell_type": "code",
   "execution_count": 1,
   "id": "dec44eab",
   "metadata": {},
   "outputs": [],
   "source": [
    "# Import necessary libraries\n",
    "import pandas as pd, shutil, os\n",
    "import yfinance as yf\n",
    "import datetime as dt\n",
    "import numpy as np\n",
    "from pathlib import Path\n",
    "import json"
   ]
  },
  {
   "cell_type": "code",
   "execution_count": 2,
   "id": "acb08746",
   "metadata": {},
   "outputs": [],
   "source": [
    "# Get S&P 500 tickers\n",
    "def get_ticks():\n",
    "    sp500_tickers = pd.read_html(\"https://en.wikipedia.org/wiki/List_of_S%26P_500_companies\")[0]\n",
    "    sp500_tickers = sp500_tickers.Symbol.to_list()\n",
    "    sp500_tickers = [x.replace(\".\", \"-\") for x in sp500_tickers]\n",
    "    \n",
    "    return sp500_tickers\n",
    "# sp500_tickers"
   ]
  },
  {
   "cell_type": "code",
   "execution_count": 3,
   "id": "3fe5a349",
   "metadata": {},
   "outputs": [],
   "source": [
    "# Start and End Dates (6 months)\n",
    "def get_dates():\n",
    "    end_date = dt.datetime.now().date().isoformat()\n",
    "    start_date = dt.datetime.now() - dt.timedelta(weeks=26)\n",
    "    start_date = start_date.date().isoformat()\n",
    "    \n",
    "    return start_date, end_date"
   ]
  },
  {
   "cell_type": "code",
   "execution_count": 4,
   "id": "9ba2310d",
   "metadata": {},
   "outputs": [],
   "source": [
    "# Getting the Forward P/E \n",
    "def ForwardPE():\n",
    "    tick_list = []\n",
    "    forwardPE = []\n",
    "    count = 0\n",
    "    for ticker in sp500_tickers:\n",
    "        info = yf.Ticker(ticker).info\n",
    "        info[\"Ticker\"] = ticker\n",
    "        forwardPE.append(info[\"forwardPE\"])\n",
    "        tick_list.append(info[\"Ticker\"])\n",
    "        count+=1\n",
    "        print(count)\n",
    "    pe_df = pd.DataFrame(data=forwardPE, index=tick_list, columns=[\"Forward P/E\"])\n",
    "    pe_df.sort_values(by=\"Forward P/E\", ascending=False, inplace=True)\n",
    "    \n",
    "    return pe_df"
   ]
  },
  {
   "cell_type": "code",
   "execution_count": 5,
   "id": "358b4bb4",
   "metadata": {},
   "outputs": [],
   "source": [
    "# Calculating today's RSI\n",
    "def calcRSI (ticker):\n",
    "    data = yf.download(ticker, start=start_date,end=end_date, group_by=\"Ticker\")\n",
    "    data[\"Ticker\"] = ticker\n",
    "    data[\"Price_Change\"] = data[\"Adj Close\"].pct_change()\n",
    "    data['Gains'] = data.loc[:,\"Price_Change\"].apply(lambda x: x if x > 0 else 0)\n",
    "    data[\"Losses\"] = data.loc[:,\"Price_Change\"].apply(lambda x: abs(x) if x < 0 else 0)\n",
    "    data[\"Avg_Up\"] = data.loc[:,\"Gains\"].ewm(com=13,adjust=False, min_periods=14).mean()\n",
    "    data[\"Avg_Down\"] = data.loc[:, \"Losses\"].ewm(com=13,adjust=False, min_periods=14).mean()\n",
    "    data[\"RS\"] = data.loc[:, \"Avg_Up\"]/data.loc[:,\"Avg_Down\"]\n",
    "    data[\"RSI\"] = data.loc[:,\"RS\"].apply(lambda x: 100 - (100/(x+1)))\n",
    "    data = data.dropna()\n",
    "\n",
    "    today = data.iloc[-1]\n",
    "\n",
    "    return today"
   ]
  },
  {
   "cell_type": "code",
   "execution_count": 6,
   "id": "c7c11c0b",
   "metadata": {},
   "outputs": [],
   "source": [
    "# Getting today's RSI for S&P 500\n",
    "def Todays_RSI_Hi():\n",
    "    stock_tick_list = []\n",
    "    stock_rsi_list = []\n",
    "    count = 0\n",
    "#     join_data = pd.DataFrame()\n",
    "    for stock in sp500_tickers:\n",
    "        stockRSI = calcRSI(stock)\n",
    "        stock_tick_list.append(stockRSI[\"Ticker\"])\n",
    "        stock_rsi_list.append(stockRSI[\"RSI\"])\n",
    "        count+=1\n",
    "        print(count)\n",
    "    rsi_df_hi = pd.DataFrame(data=(stock_rsi_list), index=stock_tick_list, columns=[\"RSI\"])\n",
    "    rsi_df_hi.sort_values(by=[\"RSI\"], ascending=False,inplace=True)\n",
    "\n",
    "    return rsi_df_hi"
   ]
  },
  {
   "cell_type": "code",
   "execution_count": null,
   "id": "5fca0b3d",
   "metadata": {},
   "outputs": [],
   "source": []
  }
 ],
 "metadata": {
  "kernelspec": {
   "display_name": "Python (dev)",
   "language": "python",
   "name": "dev"
  },
  "language_info": {
   "codemirror_mode": {
    "name": "ipython",
    "version": 3
   },
   "file_extension": ".py",
   "mimetype": "text/x-python",
   "name": "python",
   "nbconvert_exporter": "python",
   "pygments_lexer": "ipython3",
   "version": "3.7.10"
  }
 },
 "nbformat": 4,
 "nbformat_minor": 5
}
