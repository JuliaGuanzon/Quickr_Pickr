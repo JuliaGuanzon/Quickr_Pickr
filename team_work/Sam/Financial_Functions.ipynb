{
 "cells": [
  {
   "cell_type": "code",
   "execution_count": 9,
   "id": "e57c1cf1",
   "metadata": {},
   "outputs": [],
   "source": [
    "# Import necessary libraries\n",
    "import pandas as pd\n",
    "import yfinance as yf\n",
    "import datetime as dt\n",
    "import numpy as np\n",
    "from pathlib import Path\n",
    "from termcolor import colored as cl\n",
    "import matplotlib.pyplot as plt\n",
    "\n",
    "plt.rcParams['figure.figsize'] = (20, 10)\n",
    "plt.style.use('fivethirtyeight')"
   ]
  },
  {
   "cell_type": "code",
   "execution_count": 6,
   "id": "08896a98",
   "metadata": {},
   "outputs": [],
   "source": [
    "# Get advanced info for a particular stock\n",
    "def get_info(ticker):\n",
    "    info = yf.Ticker(ticker).info\n",
    "    \n",
    "    return info"
   ]
  },
  {
   "cell_type": "code",
   "execution_count": null,
   "id": "619b49f3",
   "metadata": {},
   "outputs": [],
   "source": [
    "# All Short-Term indicators calculated in one function\n",
    "def calc_indicators (ticker):\n",
    "# Downloads the data for each stock\n",
    "    data = yf.download(ticker, start=start_date,end=end_date)\n",
    "    data[\"Ticker\"] = ticker\n",
    "# Gets the moving average over the last 12 and 26 days\n",
    "    data[\"MA12\"] = data.Close.ewm(span=12).mean()\n",
    "    data[\"MA26\"] = data.Close.ewm(span=26).mean()\n",
    "# Calculates MACD, Signal, and HIST Values\n",
    "    data[\"MACD\"] = data.MA12 - data.MA26\n",
    "    data[\"Signal\"] = data.loc[:,\"MACD\"].ewm(span=9).mean()\n",
    "    data[\"HIST\"] = data.loc[:,\"MACD\"] - data.loc[:, \"Signal\"]\n",
    "# 50 day Simple Moving Average\n",
    "    data[\"SMA50\"] = data.loc[:,\"Close\"].rolling(window=50).mean()\n",
    "    data[\"SMA50%\"] = ((data.loc[:,\"Close\"] - data.loc[:, \"SMA50\"])/data.loc[:, \"SMA50\"])*100\n",
    "# RSI Calculations\n",
    "    data[\"Price_Change\"] = data[\"Adj Close\"].pct_change()\n",
    "    data['Gains'] = data.loc[:,\"Price_Change\"].apply(lambda x: x if x > 0 else 0)\n",
    "    data[\"Losses\"] = data.loc[:,\"Price_Change\"].apply(lambda x: abs(x) if x < 0 else 0)\n",
    "    data[\"Avg_Up\"] = data.loc[:,\"Gains\"].ewm(com=13,adjust=False, min_periods=14).mean()\n",
    "    data[\"Avg_Down\"] = data.loc[:, \"Losses\"].ewm(com=13,adjust=False, min_periods=14).mean()\n",
    "    data[\"RS\"] = data.loc[:, \"Avg_Up\"]/data.loc[:,\"Avg_Down\"]\n",
    "    data[\"RSI\"] = data.loc[:,\"RS\"].apply(lambda x: 100 - (100/(x+1)))\n",
    "    data = data.dropna()\n",
    "    \n",
    "    return data"
   ]
  },
  {
   "cell_type": "code",
   "execution_count": null,
   "id": "ab29c7cd",
   "metadata": {},
   "outputs": [],
   "source": [
    "# Creates a chart of prices, MACD, Signal line, and bar graph of the hist\n",
    "def get_chart(ticker):\n",
    "# Makes an api call via calc_indicators for the historical and indicator data\n",
    "    df = calc_indicators(ticker)\n",
    "# Makes 2 plots, the price on top and the MACD, Signal line, and hist on bottom\n",
    "    ax1 = plt.subplot2grid((8,1), (0,0), rowspan = 5, colspan = 1)\n",
    "    ax2 = plt.subplot2grid((7,1), (5,0), rowspan = 3, colspan = 1)\n",
    "\n",
    "    ax1.plot(df.Close)\n",
    "    ax2.plot(df.MACD, color = 'black', linewidth = 1.5, label = 'MACD')\n",
    "    ax2.plot(df.Signal, color = 'violet', linewidth = 1.5, label = 'SIGNAL')\n",
    "# Plots the bar graph on within the second plot, showing different colors for positive and negative values\n",
    "    for i in range(len(df.Close)):\n",
    "        if str(df.HIST[i])[0] == '-':\n",
    "            ax2.bar(df.Close.index[i], df.HIST[i], color = 'red')\n",
    "        else:\n",
    "            ax2.bar(df.Close.index[i], df.HIST[i], color = 'green')\n",
    "\n",
    "    plt.legend(loc = 'lower right')"
   ]
  },
  {
   "cell_type": "code",
   "execution_count": null,
   "id": "65dab9aa",
   "metadata": {},
   "outputs": [],
   "source": [
    "# Uses calc_indicators to get Today's Values for S&P 500\n",
    "def todays_indicators():\n",
    "# Create Empty lists our desired values will end up in\n",
    "    stock_tick_list = []\n",
    "    stock_rsi_list = []\n",
    "    macd_list = []\n",
    "    sig_list = []\n",
    "    hist_list = []\n",
    "    sma_pct = []\n",
    "# Add a count so the user can know how far along they are   \n",
    "    count = 0\n",
    "# Iterate through the S&P 500, appending each list with the appropriate value for the most recent close\n",
    "    for stock in sp500_tickers:\n",
    "        stock_indicators = calc_indicators(stock)\n",
    "        today = stock_indicators.iloc[-1]\n",
    "        stock_tick_list.append(today[\"Ticker\"])\n",
    "        stock_rsi_list.append(today[\"RSI\"])\n",
    "        macd_list.append(today[\"MACD\"])\n",
    "        sig_list.append(today[\"Signal\"])\n",
    "        hist_list.append(today[\"HIST\"])\n",
    "        sma_pct.append(today[\"SMA50%\"])\n",
    "        count+=1\n",
    "        print(count)\n",
    "    frames = {\"RSI\" : stock_rsi_list,\n",
    "             \"MACD\": macd_list,\n",
    "             \"Signal\": sig_list,\n",
    "             \"HIST\" : hist_list,\n",
    "             \"SMA50%\": sma_pct}\n",
    "    today_df = pd.DataFrame(data=frames, index=stock_tick_list)\n",
    "    \n",
    "    return today_df"
   ]
  },
  {
   "cell_type": "code",
   "execution_count": null,
   "id": "630eee3a",
   "metadata": {},
   "outputs": [],
   "source": [
    "# Sorts today_df by the indicator chosen by questionary. todays_calculations must be saved into today_df!\n",
    "def sort_indicators(today_df, indicator):\n",
    "    if indicator == \"High RSI\":\n",
    "        today_df.sort_values(by=[\"RSI\"], ascending=False,inplace=True)\n",
    "    elif indicator == \"Low RSI\":\n",
    "        today_df.sort_values(by=[\"RSI\"], ascending=True,inplace=True)\n",
    "    elif indicator == \"High MACD\":\n",
    "        today_df.sort_values(by=[\"HIST\"], ascending=False, inplace=True)\n",
    "    elif indicator == \"Low MACD\":\n",
    "        today_df.sort_values(by=[\"HIST\"], ascending=True, inplace=True)\n",
    "    elif indicator == \"High SMA50%\":\n",
    "        today_df.sort_values(by=[\"SMA50%\"], ascending=False, inplace=True)\n",
    "    elif indicator == \"Low SMA50%\":\n",
    "        today_df.sort_values(by=[\"SMA50%\"], ascending=True, inplace=True)\n",
    "    elif indicator == \"Low MACD Divergence\":\n",
    "        divergence = [abs(i) for (i) in hist_list]\n",
    "        today_df[\"Divergence\"] = divergence\n",
    "        today_df.sort_values(by=[\"Divergence\"], ascending=True, inplace=True)\n",
    "        \n",
    "    return today_df"
   ]
  },
  {
   "cell_type": "code",
   "execution_count": 4,
   "id": "871cd95f",
   "metadata": {},
   "outputs": [],
   "source": [
    "# Get S&P 500 tickers\n",
    "def get_ticks():\n",
    "    sp500_tickers = pd.read_html(\"https://en.wikipedia.org/wiki/List_of_S%26P_500_companies\")[0]\n",
    "    sp500_tickers = sp500_tickers.Symbol.to_list()\n",
    "    sp500_tickers = [x.replace(\".\", \"-\") for x in sp500_tickers]\n",
    "    \n",
    "    return sp500_tickers"
   ]
  },
  {
   "cell_type": "code",
   "execution_count": 3,
   "id": "8b555c0c",
   "metadata": {},
   "outputs": [],
   "source": [
    "# Start and End Dates (6 months)\n",
    "def get_dates():\n",
    "    end_date = dt.datetime.now().date().isoformat()\n",
    "    start_date = dt.datetime.now() - dt.timedelta(weeks=26)\n",
    "    start_date = start_date.date().isoformat()\n",
    "    \n",
    "    return start_date, end_date"
   ]
  },
  {
   "cell_type": "code",
   "execution_count": 5,
   "id": "74cdb33f",
   "metadata": {},
   "outputs": [
    {
     "data": {
      "text/plain": [
       "('2021-02-13', '2021-08-14')"
      ]
     },
     "execution_count": 5,
     "metadata": {},
     "output_type": "execute_result"
    }
   ],
   "source": [
    "# Getting the Forward P/E \n",
    "def ForwardPE():\n",
    "    tick_list = []\n",
    "    forwardPE = []\n",
    "    count = 0\n",
    "    for ticker in sp500_tickers:\n",
    "        info = yf.Ticker(ticker).info\n",
    "        info[\"Ticker\"] = ticker\n",
    "        forwardPE.append(info[\"forwardPE\"])\n",
    "        tick_list.append(info[\"Ticker\"])\n",
    "        count+=1\n",
    "        print(count)\n",
    "    pe_df = pd.DataFrame(data=forwardPE, index=tick_list, columns=[\"Forward P/E\"])\n",
    "    pe_df.sort_values(by=\"Forward P/E\", ascending=False, inplace=True)\n",
    "    \n",
    "    return pe_df"
   ]
  },
  {
   "cell_type": "code",
   "execution_count": null,
   "id": "0997c9f7",
   "metadata": {},
   "outputs": [],
   "source": [
    "# # Calculating today's RSI\n",
    "# def calcRSI (ticker):\n",
    "#     data = yf.download(ticker, start=start_date,end=end_date, group_by=\"Ticker\")\n",
    "#     data[\"Ticker\"] = ticker\n",
    "#     data[\"Price_Change\"] = data[\"Adj Close\"].pct_change()\n",
    "#     data['Gains'] = data.loc[:,\"Price_Change\"].apply(lambda x: x if x > 0 else 0)\n",
    "#     data[\"Losses\"] = data.loc[:,\"Price_Change\"].apply(lambda x: abs(x) if x < 0 else 0)\n",
    "#     data[\"Avg_Up\"] = data.loc[:,\"Gains\"].ewm(com=13,adjust=False, min_periods=14).mean()\n",
    "#     data[\"Avg_Down\"] = data.loc[:, \"Losses\"].ewm(com=13,adjust=False, min_periods=14).mean()\n",
    "#     data[\"RS\"] = data.loc[:, \"Avg_Up\"]/data.loc[:,\"Avg_Down\"]\n",
    "#     data[\"RSI\"] = data.loc[:,\"RS\"].apply(lambda x: 100 - (100/(x+1)))\n",
    "#     data = data.dropna()\n",
    "\n",
    "#     today = data.iloc[-1]\n",
    "\n",
    "#     return today"
   ]
  },
  {
   "cell_type": "code",
   "execution_count": null,
   "id": "e3cc4b95",
   "metadata": {},
   "outputs": [],
   "source": [
    "# # Getting today's RSI for S&P 500\n",
    "# def Todays_RSI_Hi():\n",
    "#     stock_tick_list = []\n",
    "#     stock_rsi_list = []\n",
    "#     count = 0\n",
    "# #     join_data = pd.DataFrame()\n",
    "#     for stock in sp500_tickers:\n",
    "#         stockRSI = calcRSI(stock)\n",
    "#         stock_tick_list.append(stockRSI[\"Ticker\"])\n",
    "#         stock_rsi_list.append(stockRSI[\"RSI\"])\n",
    "#         count+=1\n",
    "#         print(count)\n",
    "#     rsi_df_hi = pd.DataFrame(data=(stock_rsi_list), index=stock_tick_list, columns=[\"RSI\"])\n",
    "#     rsi_df_hi.sort_values(by=[\"RSI\"], ascending=False,inplace=True)\n",
    "\n",
    "#     return rsi_df_hi"
   ]
  }
 ],
 "metadata": {
  "kernelspec": {
   "display_name": "dev",
   "language": "python",
   "name": "dev"
  },
  "language_info": {
   "codemirror_mode": {
    "name": "ipython",
    "version": 3
   },
   "file_extension": ".py",
   "mimetype": "text/x-python",
   "name": "python",
   "nbconvert_exporter": "python",
   "pygments_lexer": "ipython3",
   "version": "3.7.10"
  }
 },
 "nbformat": 4,
 "nbformat_minor": 5
}
