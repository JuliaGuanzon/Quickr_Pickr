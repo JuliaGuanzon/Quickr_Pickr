{
 "cells": [
  {
   "cell_type": "code",
   "execution_count": 1,
   "id": "1957999a",
   "metadata": {},
   "outputs": [],
   "source": [
    "# http://theautomatic.net/yahoo_fin-documentation/\n",
    "# pip install yahoo-fin\n",
    "import yahoo_fin.stock_info as si\n",
    "import yfinance as yf\n",
    "\n",
    "# other libraries\n",
    "import pandas as pd"
   ]
  },
  {
   "cell_type": "code",
   "execution_count": 2,
   "id": "e6479d41",
   "metadata": {},
   "outputs": [],
   "source": [
    "def get_tickers(index):\n",
    "    if index == \"dow\":\n",
    "        return si.tickers_dow()\n",
    "    elif index == \"sp500\":\n",
    "        return si.tickers_sp500()\n",
    "    else:\n",
    "        return si.tickers_nasdaq()"
   ]
  },
  {
   "cell_type": "code",
   "execution_count": 3,
   "id": "61df0210",
   "metadata": {},
   "outputs": [],
   "source": [
    "def create_dataframe(old_df, new_df):\n",
    "    for key in old_df:\n",
    "        new_df = pd.concat([new_df, old_df[key]])\n",
    "    return new_df"
   ]
  },
  {
   "cell_type": "code",
   "execution_count": 4,
   "id": "6e51f7b5",
   "metadata": {},
   "outputs": [],
   "source": [
    "def get_yf_data(alltickers, period_param, gp_param):\n",
    "    result = yf.download((alltickers), period=period_param, group_by= gp_param)\n",
    "    return result"
   ]
  }
 ],
 "metadata": {
  "kernelspec": {
   "display_name": "Python (dev)",
   "language": "python",
   "name": "dev"
  },
  "language_info": {
   "codemirror_mode": {
    "name": "ipython",
    "version": 3
   },
   "file_extension": ".py",
   "mimetype": "text/x-python",
   "name": "python",
   "nbconvert_exporter": "python",
   "pygments_lexer": "ipython3",
   "version": "3.7.10"
  }
 },
 "nbformat": 4,
 "nbformat_minor": 5
}
