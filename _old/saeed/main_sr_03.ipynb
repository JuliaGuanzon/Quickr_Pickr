{
 "cells": [
  {
   "cell_type": "code",
   "execution_count": 174,
   "id": "5697e1ab",
   "metadata": {},
   "outputs": [],
   "source": [
    "# library information:\n",
    "\n",
    "import os\n",
    "# It is the fundamental library of python, used to perform scientific computing. \n",
    "# It provides high-performance multidimensional arrays and tools to deal with them.\n",
    "import numpy as np\n",
    "# Pandas provide high performance, fast, easy to use data structures and data analysis tools for manipulating \n",
    "# numeric data and time series. Pandas is built on the numpy library and written in languages like Python.\n",
    "import pandas as pd\n",
    "# import library to read date range for stock ticker historical data range\n",
    "import datetime\n",
    "import json\n",
    "\n",
    "import alpaca_trade_api as tradeapi\n",
    "\n",
    "from dotenv import load_dotenv\n",
    "# import ipynb.fs.full\n",
    "# https://stackoverflow.com/questions/44116194/import-a-function-from-another-ipynb-file\n",
    "# from ipynb.fs.full.test_sr import *\n",
    "# from ipynb.fs.full.date_functions import *\n",
    "# from ipynb.fs.full.my_functions import *\n",
    "\n",
    "# since functions will be in a different folder, import library to read path info\n",
    "import sys\n",
    "sys.path.append('Saeed/functions/')\n",
    "sys.path.append('Saeed/functions/utils/')\n",
    "# and now import my functions\n",
    "from test_sr import *\n",
    "from date_functions import *\n",
    "from my_functions import *\n",
    "\n",
    "# ===================================================================================================\n",
    "# http://theautomatic.net/yahoo_fin-documentation/\n",
    "# pip install yahoo-fin\n",
    "# import yahoo_fin.stock_info as si\n",
    "\n",
    "# import data libraries to read date range for stock ticker historical data range\n",
    "# from datetime import date\n",
    "\n",
    "# other libraries\n",
    "# import pandas_datareader as pdr\n",
    "%matplotlib inline"
   ]
  },
  {
   "cell_type": "code",
   "execution_count": 175,
   "id": "53fc179f",
   "metadata": {},
   "outputs": [
    {
     "name": "stdout",
     "output_type": "stream",
     "text": [
      "... hello from Saeed\n"
     ]
    }
   ],
   "source": [
    "# test call to function in a different folder\n",
    "display_greeting(\"Saeed\")"
   ]
  },
  {
   "cell_type": "code",
   "execution_count": 176,
   "id": "0a3113fd",
   "metadata": {},
   "outputs": [
    {
     "data": {
      "text/plain": [
       "True"
      ]
     },
     "execution_count": 176,
     "metadata": {},
     "output_type": "execute_result"
    }
   ],
   "source": [
    "# Load .env environment variables\n",
    "load_dotenv()"
   ]
  },
  {
   "cell_type": "code",
   "execution_count": 177,
   "id": "02c8aeeb",
   "metadata": {},
   "outputs": [],
   "source": [
    "# Set Alpaca API key and secret\n",
    "alpaca_api_key = os.getenv(\"ALPACA_API_KEY\")\n",
    "alpaca_secret_key = os.getenv(\"ALPACA_SECRET_KEY\")"
   ]
  },
  {
   "cell_type": "code",
   "execution_count": 178,
   "id": "7d8cb8ff",
   "metadata": {},
   "outputs": [
    {
     "name": "stdout",
     "output_type": "stream",
     "text": [
      "Alpaca Key type: <class 'str'>\n",
      "Alpaca Secret Key type: <class 'str'>\n"
     ]
    }
   ],
   "source": [
    "# Verify that Alpaca key and secret were correctly loaded\n",
    "print(f\"Alpaca Key type: {type(alpaca_api_key)}\")\n",
    "print(f\"Alpaca Secret Key type: {type(alpaca_secret_key)}\")"
   ]
  },
  {
   "cell_type": "code",
   "execution_count": 179,
   "id": "43011e69",
   "metadata": {},
   "outputs": [],
   "source": [
    "# Create the Alpaca API object\n",
    "alpaca = tradeapi.REST(\n",
    "    alpaca_api_key,\n",
    "    alpaca_secret_key,\n",
    "    api_version=\"v2\")"
   ]
  },
  {
   "cell_type": "code",
   "execution_count": 180,
   "id": "2ec5cf9c",
   "metadata": {},
   "outputs": [
    {
     "data": {
      "text/plain": [
       "datetime.datetime(2021, 8, 13, 12, 12, 48, 960477)"
      ]
     },
     "execution_count": 180,
     "metadata": {},
     "output_type": "execute_result"
    }
   ],
   "source": [
    "# format current date as ISO format\n",
    "this_moment = datetime.datetime.now()\n",
    "this_moment"
   ]
  },
  {
   "cell_type": "code",
   "execution_count": 181,
   "id": "52b3c850",
   "metadata": {},
   "outputs": [
    {
     "data": {
      "text/plain": [
       "365"
      ]
     },
     "execution_count": 181,
     "metadata": {},
     "output_type": "execute_result"
    }
   ],
   "source": [
    "# number of days for which we need data. for 200SMA we should atleast get 250 days\n",
    "num_of_days = 365    # 365 - Get atleast a year's worth of data.\n",
    "num_of_days"
   ]
  },
  {
   "cell_type": "code",
   "execution_count": 182,
   "id": "583471ec",
   "metadata": {},
   "outputs": [
    {
     "data": {
      "text/plain": [
       "'2020-08-13'"
      ]
     },
     "execution_count": 182,
     "metadata": {},
     "output_type": "execute_result"
    }
   ],
   "source": [
    "# get the begin date for the date range.\n",
    "start_date = get_begin_date(this_moment, num_of_days)\n",
    "start_date\n",
    "\n",
    "# start_date.strftime(\"%m/%d/%y\")\n",
    "# start_date = str(datetime.datetime.now() - datetime.timedelta(days=1*num_of_days))\n",
    "# start_date"
   ]
  },
  {
   "cell_type": "code",
   "execution_count": 183,
   "id": "d7f33a05",
   "metadata": {},
   "outputs": [
    {
     "data": {
      "text/plain": [
       "'2021-08-13'"
      ]
     },
     "execution_count": 183,
     "metadata": {},
     "output_type": "execute_result"
    }
   ],
   "source": [
    "# get the end date for the date range\n",
    "finish_date = str(this_moment).split()[0]\n",
    "finish_date\n",
    "\n",
    "# = current_date\n",
    "# end_date\n",
    "# current_date = date.today()\n",
    "# current_date.strftime(\"%m/%d/%y\")\n",
    "# end_date = current_date"
   ]
  },
  {
   "cell_type": "code",
   "execution_count": 184,
   "id": "8f7f6bb8",
   "metadata": {},
   "outputs": [
    {
     "data": {
      "text/plain": [
       "'2020-08-13T00:00:00-04:00'"
      ]
     },
     "execution_count": 184,
     "metadata": {},
     "output_type": "execute_result"
    }
   ],
   "source": [
    "# conver date to ISO format\n",
    "begin_date = pd.Timestamp(start_date, tz=\"America/New_York\").isoformat()\n",
    "begin_date"
   ]
  },
  {
   "cell_type": "code",
   "execution_count": 185,
   "id": "d1ddbeb5",
   "metadata": {},
   "outputs": [
    {
     "data": {
      "text/plain": [
       "'2021-08-13T00:00:00-04:00'"
      ]
     },
     "execution_count": 185,
     "metadata": {},
     "output_type": "execute_result"
    }
   ],
   "source": [
    "end_date = pd.Timestamp(finish_date, tz=\"America/New_York\").isoformat()\n",
    "end_date"
   ]
  },
  {
   "cell_type": "code",
   "execution_count": 191,
   "id": "ca92bd9a",
   "metadata": {},
   "outputs": [
    {
     "data": {
      "text/plain": [
       "list"
      ]
     },
     "execution_count": 191,
     "metadata": {},
     "output_type": "execute_result"
    }
   ],
   "source": [
    "# get tickers for \"dow\" or \"sp500\" or \"nasdaq\" one at a time\n",
    "\n",
    "# dow30 has 30 symbols\n",
    "tickers_dow = get_tickers(\"dow\")\n",
    "choice = \"dow\"\n",
    "# tickers_dow\n",
    "\n",
    "# sp500 has 505 symbols\n",
    "# tickers_sp500 = get_tickers(\"sp500\")\n",
    "# choice = \"sp500\"\n",
    "# tickers_sp500\n",
    "\n",
    "# nasdaq has 4942 symbols\n",
    "# tickers_nasdaq = get_tickers(\"nasdaq\")\n",
    "# choice = \"nasdaq\"\n",
    "# tickers_nasdaq\n",
    "\n",
    "# if we decide to use more than one market index, we must remove duplicates\n",
    "# all_tickers = list(set(tickers_dow + tickers_sp500)) \n",
    "\n",
    "all_tickers = tickers_dow\n",
    "# all_tickers = tickers_sp500\n",
    "# all_tickers = tickers_nasdaq\n",
    "# all_tickers = [\"AAPL\", \"AMZN\", \"IBM\", \"V\", \"VZ\"]     # [\"AAPL\", \"V\", \"WMT\"]\n",
    "# choice = \"sample\"\n",
    "\n",
    "# print(all_tickers)\n",
    "type(all_tickers)"
   ]
  },
  {
   "cell_type": "code",
   "execution_count": 192,
   "id": "d9ac6ddc",
   "metadata": {},
   "outputs": [
    {
     "data": {
      "text/plain": [
       "list"
      ]
     },
     "execution_count": 192,
     "metadata": {},
     "output_type": "execute_result"
    }
   ],
   "source": [
    "# split list of tickers\n",
    "\n",
    "the_list = all_tickers\n",
    "if choice == \"sp500\":                # change to sp500 after testing\n",
    "    chunk_size = 100\n",
    "    # the_list = all_tickers\n",
    "    if len(all_tickers) > chunk_size:\n",
    "        the_list = split_my_list(all_tickers, chunk_size)\n",
    "        #print(\"Saeed\")\n",
    "# print(the_list)\n",
    "type(the_list)"
   ]
  },
  {
   "cell_type": "code",
   "execution_count": 193,
   "id": "ffc42bc6",
   "metadata": {},
   "outputs": [
    {
     "name": "stdout",
     "output_type": "stream",
     "text": [
      "AAPL\n"
     ]
    },
    {
     "data": {
      "text/plain": [
       "str"
      ]
     },
     "execution_count": 193,
     "metadata": {},
     "output_type": "execute_result"
    }
   ],
   "source": [
    "print(the_list[0])\n",
    "type(the_list[0])"
   ]
  },
  {
   "cell_type": "code",
   "execution_count": 194,
   "id": "91191ffa",
   "metadata": {},
   "outputs": [
    {
     "data": {
      "text/plain": [
       "'1D'"
      ]
     },
     "execution_count": 194,
     "metadata": {},
     "output_type": "execute_result"
    }
   ],
   "source": [
    "# Set timeframe to one day ('1D') for the Alpaca API\n",
    "timeframe = \"1D\"\n",
    "timeframe"
   ]
  },
  {
   "cell_type": "code",
   "execution_count": 195,
   "id": "52fa2b1a",
   "metadata": {},
   "outputs": [
    {
     "data": {
      "text/html": [
       "<div>\n",
       "<style scoped>\n",
       "    .dataframe tbody tr th:only-of-type {\n",
       "        vertical-align: middle;\n",
       "    }\n",
       "\n",
       "    .dataframe tbody tr th {\n",
       "        vertical-align: top;\n",
       "    }\n",
       "\n",
       "    .dataframe thead tr th {\n",
       "        text-align: left;\n",
       "    }\n",
       "\n",
       "    .dataframe thead tr:last-of-type th {\n",
       "        text-align: right;\n",
       "    }\n",
       "</style>\n",
       "<table border=\"1\" class=\"dataframe\">\n",
       "  <thead>\n",
       "    <tr>\n",
       "      <th></th>\n",
       "      <th colspan=\"5\" halign=\"left\">AAPL</th>\n",
       "      <th colspan=\"5\" halign=\"left\">AMGN</th>\n",
       "      <th>...</th>\n",
       "      <th colspan=\"5\" halign=\"left\">WBA</th>\n",
       "      <th colspan=\"5\" halign=\"left\">WMT</th>\n",
       "    </tr>\n",
       "    <tr>\n",
       "      <th></th>\n",
       "      <th>open</th>\n",
       "      <th>high</th>\n",
       "      <th>low</th>\n",
       "      <th>close</th>\n",
       "      <th>volume</th>\n",
       "      <th>open</th>\n",
       "      <th>high</th>\n",
       "      <th>low</th>\n",
       "      <th>close</th>\n",
       "      <th>volume</th>\n",
       "      <th>...</th>\n",
       "      <th>open</th>\n",
       "      <th>high</th>\n",
       "      <th>low</th>\n",
       "      <th>close</th>\n",
       "      <th>volume</th>\n",
       "      <th>open</th>\n",
       "      <th>high</th>\n",
       "      <th>low</th>\n",
       "      <th>close</th>\n",
       "      <th>volume</th>\n",
       "    </tr>\n",
       "    <tr>\n",
       "      <th>time</th>\n",
       "      <th></th>\n",
       "      <th></th>\n",
       "      <th></th>\n",
       "      <th></th>\n",
       "      <th></th>\n",
       "      <th></th>\n",
       "      <th></th>\n",
       "      <th></th>\n",
       "      <th></th>\n",
       "      <th></th>\n",
       "      <th></th>\n",
       "      <th></th>\n",
       "      <th></th>\n",
       "      <th></th>\n",
       "      <th></th>\n",
       "      <th></th>\n",
       "      <th></th>\n",
       "      <th></th>\n",
       "      <th></th>\n",
       "      <th></th>\n",
       "      <th></th>\n",
       "    </tr>\n",
       "  </thead>\n",
       "  <tbody>\n",
       "    <tr>\n",
       "      <th>2021-03-24 00:00:00-04:00</th>\n",
       "      <td>122.82</td>\n",
       "      <td>122.9000</td>\n",
       "      <td>120.0650</td>\n",
       "      <td>120.0700</td>\n",
       "      <td>78958064</td>\n",
       "      <td>244.30</td>\n",
       "      <td>247.3890</td>\n",
       "      <td>243.82</td>\n",
       "      <td>245.650</td>\n",
       "      <td>1788083</td>\n",
       "      <td>...</td>\n",
       "      <td>52.66</td>\n",
       "      <td>53.3300</td>\n",
       "      <td>51.7500</td>\n",
       "      <td>51.770</td>\n",
       "      <td>4042801</td>\n",
       "      <td>134.50</td>\n",
       "      <td>134.4300</td>\n",
       "      <td>133.050</td>\n",
       "      <td>133.1200</td>\n",
       "      <td>6967828</td>\n",
       "    </tr>\n",
       "    <tr>\n",
       "      <th>2021-03-25 00:00:00-04:00</th>\n",
       "      <td>119.54</td>\n",
       "      <td>121.6600</td>\n",
       "      <td>119.0000</td>\n",
       "      <td>120.6300</td>\n",
       "      <td>89156937</td>\n",
       "      <td>247.03</td>\n",
       "      <td>247.5400</td>\n",
       "      <td>244.98</td>\n",
       "      <td>246.250</td>\n",
       "      <td>1701692</td>\n",
       "      <td>...</td>\n",
       "      <td>50.94</td>\n",
       "      <td>51.8800</td>\n",
       "      <td>50.2887</td>\n",
       "      <td>51.700</td>\n",
       "      <td>5181596</td>\n",
       "      <td>133.26</td>\n",
       "      <td>134.5301</td>\n",
       "      <td>132.870</td>\n",
       "      <td>134.0100</td>\n",
       "      <td>8260488</td>\n",
       "    </tr>\n",
       "    <tr>\n",
       "      <th>2021-03-26 00:00:00-04:00</th>\n",
       "      <td>120.35</td>\n",
       "      <td>121.4800</td>\n",
       "      <td>118.9200</td>\n",
       "      <td>121.2100</td>\n",
       "      <td>79186956</td>\n",
       "      <td>245.97</td>\n",
       "      <td>253.2800</td>\n",
       "      <td>245.54</td>\n",
       "      <td>252.910</td>\n",
       "      <td>1987554</td>\n",
       "      <td>...</td>\n",
       "      <td>51.90</td>\n",
       "      <td>52.8100</td>\n",
       "      <td>51.1600</td>\n",
       "      <td>52.020</td>\n",
       "      <td>4390387</td>\n",
       "      <td>134.00</td>\n",
       "      <td>135.2000</td>\n",
       "      <td>133.421</td>\n",
       "      <td>135.0699</td>\n",
       "      <td>7905753</td>\n",
       "    </tr>\n",
       "    <tr>\n",
       "      <th>2021-03-29 00:00:00-04:00</th>\n",
       "      <td>121.65</td>\n",
       "      <td>122.5800</td>\n",
       "      <td>120.7299</td>\n",
       "      <td>121.3900</td>\n",
       "      <td>70495825</td>\n",
       "      <td>251.53</td>\n",
       "      <td>256.5950</td>\n",
       "      <td>251.45</td>\n",
       "      <td>254.960</td>\n",
       "      <td>1979007</td>\n",
       "      <td>...</td>\n",
       "      <td>52.11</td>\n",
       "      <td>52.9800</td>\n",
       "      <td>51.6600</td>\n",
       "      <td>52.880</td>\n",
       "      <td>4369584</td>\n",
       "      <td>135.00</td>\n",
       "      <td>137.0100</td>\n",
       "      <td>134.600</td>\n",
       "      <td>136.6700</td>\n",
       "      <td>8713337</td>\n",
       "    </tr>\n",
       "    <tr>\n",
       "      <th>2021-03-30 00:00:00-04:00</th>\n",
       "      <td>120.11</td>\n",
       "      <td>120.4031</td>\n",
       "      <td>118.8600</td>\n",
       "      <td>119.8800</td>\n",
       "      <td>76566683</td>\n",
       "      <td>253.09</td>\n",
       "      <td>254.0075</td>\n",
       "      <td>248.83</td>\n",
       "      <td>249.750</td>\n",
       "      <td>1596530</td>\n",
       "      <td>...</td>\n",
       "      <td>52.55</td>\n",
       "      <td>53.2700</td>\n",
       "      <td>52.2350</td>\n",
       "      <td>53.110</td>\n",
       "      <td>4285656</td>\n",
       "      <td>136.55</td>\n",
       "      <td>137.5900</td>\n",
       "      <td>134.940</td>\n",
       "      <td>135.7200</td>\n",
       "      <td>7889720</td>\n",
       "    </tr>\n",
       "    <tr>\n",
       "      <th>...</th>\n",
       "      <td>...</td>\n",
       "      <td>...</td>\n",
       "      <td>...</td>\n",
       "      <td>...</td>\n",
       "      <td>...</td>\n",
       "      <td>...</td>\n",
       "      <td>...</td>\n",
       "      <td>...</td>\n",
       "      <td>...</td>\n",
       "      <td>...</td>\n",
       "      <td>...</td>\n",
       "      <td>...</td>\n",
       "      <td>...</td>\n",
       "      <td>...</td>\n",
       "      <td>...</td>\n",
       "      <td>...</td>\n",
       "      <td>...</td>\n",
       "      <td>...</td>\n",
       "      <td>...</td>\n",
       "      <td>...</td>\n",
       "      <td>...</td>\n",
       "    </tr>\n",
       "    <tr>\n",
       "      <th>2021-08-09 00:00:00-04:00</th>\n",
       "      <td>146.23</td>\n",
       "      <td>146.7000</td>\n",
       "      <td>145.5200</td>\n",
       "      <td>146.0900</td>\n",
       "      <td>39789209</td>\n",
       "      <td>230.39</td>\n",
       "      <td>231.4000</td>\n",
       "      <td>227.22</td>\n",
       "      <td>227.860</td>\n",
       "      <td>1710508</td>\n",
       "      <td>...</td>\n",
       "      <td>47.19</td>\n",
       "      <td>47.7600</td>\n",
       "      <td>47.0920</td>\n",
       "      <td>47.445</td>\n",
       "      <td>3221502</td>\n",
       "      <td>145.91</td>\n",
       "      <td>146.4800</td>\n",
       "      <td>145.400</td>\n",
       "      <td>145.5800</td>\n",
       "      <td>4670151</td>\n",
       "    </tr>\n",
       "    <tr>\n",
       "      <th>2021-08-10 00:00:00-04:00</th>\n",
       "      <td>146.46</td>\n",
       "      <td>147.7100</td>\n",
       "      <td>145.3000</td>\n",
       "      <td>145.6100</td>\n",
       "      <td>58788673</td>\n",
       "      <td>227.85</td>\n",
       "      <td>228.2000</td>\n",
       "      <td>223.94</td>\n",
       "      <td>227.960</td>\n",
       "      <td>2498417</td>\n",
       "      <td>...</td>\n",
       "      <td>47.61</td>\n",
       "      <td>48.4900</td>\n",
       "      <td>47.4100</td>\n",
       "      <td>48.440</td>\n",
       "      <td>4076397</td>\n",
       "      <td>146.99</td>\n",
       "      <td>148.9500</td>\n",
       "      <td>146.250</td>\n",
       "      <td>148.6800</td>\n",
       "      <td>11676139</td>\n",
       "    </tr>\n",
       "    <tr>\n",
       "      <th>2021-08-11 00:00:00-04:00</th>\n",
       "      <td>146.07</td>\n",
       "      <td>146.7200</td>\n",
       "      <td>145.5300</td>\n",
       "      <td>145.9100</td>\n",
       "      <td>44305648</td>\n",
       "      <td>229.91</td>\n",
       "      <td>230.0000</td>\n",
       "      <td>227.49</td>\n",
       "      <td>228.150</td>\n",
       "      <td>1841917</td>\n",
       "      <td>...</td>\n",
       "      <td>48.66</td>\n",
       "      <td>49.8450</td>\n",
       "      <td>48.4601</td>\n",
       "      <td>49.750</td>\n",
       "      <td>7042028</td>\n",
       "      <td>149.51</td>\n",
       "      <td>151.5800</td>\n",
       "      <td>149.160</td>\n",
       "      <td>150.0100</td>\n",
       "      <td>12852300</td>\n",
       "    </tr>\n",
       "    <tr>\n",
       "      <th>2021-08-12 00:00:00-04:00</th>\n",
       "      <td>146.20</td>\n",
       "      <td>149.0500</td>\n",
       "      <td>145.8400</td>\n",
       "      <td>148.8850</td>\n",
       "      <td>65367573</td>\n",
       "      <td>228.30</td>\n",
       "      <td>229.4800</td>\n",
       "      <td>225.81</td>\n",
       "      <td>228.150</td>\n",
       "      <td>1565659</td>\n",
       "      <td>...</td>\n",
       "      <td>49.98</td>\n",
       "      <td>50.0700</td>\n",
       "      <td>49.0750</td>\n",
       "      <td>49.320</td>\n",
       "      <td>3090436</td>\n",
       "      <td>149.09</td>\n",
       "      <td>150.2100</td>\n",
       "      <td>148.810</td>\n",
       "      <td>149.0600</td>\n",
       "      <td>5608125</td>\n",
       "    </tr>\n",
       "    <tr>\n",
       "      <th>2021-08-13 00:00:00-04:00</th>\n",
       "      <td>148.97</td>\n",
       "      <td>149.4444</td>\n",
       "      <td>148.2700</td>\n",
       "      <td>148.9123</td>\n",
       "      <td>40250410</td>\n",
       "      <td>229.08</td>\n",
       "      <td>231.8900</td>\n",
       "      <td>228.76</td>\n",
       "      <td>230.465</td>\n",
       "      <td>647580</td>\n",
       "      <td>...</td>\n",
       "      <td>49.33</td>\n",
       "      <td>49.6245</td>\n",
       "      <td>49.0800</td>\n",
       "      <td>49.450</td>\n",
       "      <td>2284685</td>\n",
       "      <td>149.74</td>\n",
       "      <td>150.3600</td>\n",
       "      <td>149.160</td>\n",
       "      <td>149.2700</td>\n",
       "      <td>2890503</td>\n",
       "    </tr>\n",
       "  </tbody>\n",
       "</table>\n",
       "<p>100 rows × 150 columns</p>\n",
       "</div>"
      ],
      "text/plain": [
       "                             AAPL                                          \\\n",
       "                             open      high       low     close    volume   \n",
       "time                                                                        \n",
       "2021-03-24 00:00:00-04:00  122.82  122.9000  120.0650  120.0700  78958064   \n",
       "2021-03-25 00:00:00-04:00  119.54  121.6600  119.0000  120.6300  89156937   \n",
       "2021-03-26 00:00:00-04:00  120.35  121.4800  118.9200  121.2100  79186956   \n",
       "2021-03-29 00:00:00-04:00  121.65  122.5800  120.7299  121.3900  70495825   \n",
       "2021-03-30 00:00:00-04:00  120.11  120.4031  118.8600  119.8800  76566683   \n",
       "...                           ...       ...       ...       ...       ...   \n",
       "2021-08-09 00:00:00-04:00  146.23  146.7000  145.5200  146.0900  39789209   \n",
       "2021-08-10 00:00:00-04:00  146.46  147.7100  145.3000  145.6100  58788673   \n",
       "2021-08-11 00:00:00-04:00  146.07  146.7200  145.5300  145.9100  44305648   \n",
       "2021-08-12 00:00:00-04:00  146.20  149.0500  145.8400  148.8850  65367573   \n",
       "2021-08-13 00:00:00-04:00  148.97  149.4444  148.2700  148.9123  40250410   \n",
       "\n",
       "                             AMGN                                      ...  \\\n",
       "                             open      high     low    close   volume  ...   \n",
       "time                                                                   ...   \n",
       "2021-03-24 00:00:00-04:00  244.30  247.3890  243.82  245.650  1788083  ...   \n",
       "2021-03-25 00:00:00-04:00  247.03  247.5400  244.98  246.250  1701692  ...   \n",
       "2021-03-26 00:00:00-04:00  245.97  253.2800  245.54  252.910  1987554  ...   \n",
       "2021-03-29 00:00:00-04:00  251.53  256.5950  251.45  254.960  1979007  ...   \n",
       "2021-03-30 00:00:00-04:00  253.09  254.0075  248.83  249.750  1596530  ...   \n",
       "...                           ...       ...     ...      ...      ...  ...   \n",
       "2021-08-09 00:00:00-04:00  230.39  231.4000  227.22  227.860  1710508  ...   \n",
       "2021-08-10 00:00:00-04:00  227.85  228.2000  223.94  227.960  2498417  ...   \n",
       "2021-08-11 00:00:00-04:00  229.91  230.0000  227.49  228.150  1841917  ...   \n",
       "2021-08-12 00:00:00-04:00  228.30  229.4800  225.81  228.150  1565659  ...   \n",
       "2021-08-13 00:00:00-04:00  229.08  231.8900  228.76  230.465   647580  ...   \n",
       "\n",
       "                             WBA                                        WMT  \\\n",
       "                            open     high      low   close   volume    open   \n",
       "time                                                                          \n",
       "2021-03-24 00:00:00-04:00  52.66  53.3300  51.7500  51.770  4042801  134.50   \n",
       "2021-03-25 00:00:00-04:00  50.94  51.8800  50.2887  51.700  5181596  133.26   \n",
       "2021-03-26 00:00:00-04:00  51.90  52.8100  51.1600  52.020  4390387  134.00   \n",
       "2021-03-29 00:00:00-04:00  52.11  52.9800  51.6600  52.880  4369584  135.00   \n",
       "2021-03-30 00:00:00-04:00  52.55  53.2700  52.2350  53.110  4285656  136.55   \n",
       "...                          ...      ...      ...     ...      ...     ...   \n",
       "2021-08-09 00:00:00-04:00  47.19  47.7600  47.0920  47.445  3221502  145.91   \n",
       "2021-08-10 00:00:00-04:00  47.61  48.4900  47.4100  48.440  4076397  146.99   \n",
       "2021-08-11 00:00:00-04:00  48.66  49.8450  48.4601  49.750  7042028  149.51   \n",
       "2021-08-12 00:00:00-04:00  49.98  50.0700  49.0750  49.320  3090436  149.09   \n",
       "2021-08-13 00:00:00-04:00  49.33  49.6245  49.0800  49.450  2284685  149.74   \n",
       "\n",
       "                                                                  \n",
       "                               high      low     close    volume  \n",
       "time                                                              \n",
       "2021-03-24 00:00:00-04:00  134.4300  133.050  133.1200   6967828  \n",
       "2021-03-25 00:00:00-04:00  134.5301  132.870  134.0100   8260488  \n",
       "2021-03-26 00:00:00-04:00  135.2000  133.421  135.0699   7905753  \n",
       "2021-03-29 00:00:00-04:00  137.0100  134.600  136.6700   8713337  \n",
       "2021-03-30 00:00:00-04:00  137.5900  134.940  135.7200   7889720  \n",
       "...                             ...      ...       ...       ...  \n",
       "2021-08-09 00:00:00-04:00  146.4800  145.400  145.5800   4670151  \n",
       "2021-08-10 00:00:00-04:00  148.9500  146.250  148.6800  11676139  \n",
       "2021-08-11 00:00:00-04:00  151.5800  149.160  150.0100  12852300  \n",
       "2021-08-12 00:00:00-04:00  150.2100  148.810  149.0600   5608125  \n",
       "2021-08-13 00:00:00-04:00  150.3600  149.160  149.2700   2890503  \n",
       "\n",
       "[100 rows x 150 columns]"
      ]
     },
     "execution_count": 195,
     "metadata": {},
     "output_type": "execute_result"
    }
   ],
   "source": [
    "# Get current historical data tickers in the list\n",
    "# df_historical_data\n",
    "\n",
    "# for i in range(len(the_list)):\n",
    "# #    list[i] = the_list[i]\n",
    "\n",
    "#     df_historical_data = alpaca.get_barset(\n",
    "#         the_list[i],\n",
    "#         timeframe,\n",
    "#         start = begin_date,\n",
    "#         end = end_date\n",
    "#     ).df\n",
    "    \n",
    "#     if i == 0:\n",
    "#         new_df = df_historical_data_aapl\n",
    "#     else:\n",
    "#         new_df = pd.concat([new_df, df_historical_data_wmt], axis=1, join=\"inner\")\n",
    "\n",
    "# Figure out looping here ...\n",
    "if choice == \"sp500\":                   # change to sp500 after testing\n",
    "    final_df_1 = alpaca.get_barset(\n",
    "         the_list[0],\n",
    "         timeframe,\n",
    "         start = begin_date,\n",
    "         end = end_date\n",
    "    ).df\n",
    "        \n",
    "    final_df_2 = df_historical_data_wmt = alpaca.get_barset(\n",
    "        the_list[1],\n",
    "        timeframe,\n",
    "        start = begin_date,\n",
    "        end = end_date\n",
    "    ).df\n",
    "    \n",
    "    final_df_3 = alpaca.get_barset(\n",
    "         the_list[2],\n",
    "         timeframe,\n",
    "         start = begin_date,\n",
    "         end = end_date\n",
    "    ).df\n",
    "    \n",
    "    final_df_4 = alpaca.get_barset(\n",
    "         the_list[3],\n",
    "         timeframe,\n",
    "         start = begin_date,\n",
    "         end = end_date\n",
    "    ).df\n",
    "    \n",
    "    final_df_5 = alpaca.get_barset(\n",
    "         the_list[4],\n",
    "         timeframe,\n",
    "         start = begin_date,\n",
    "         end = end_date\n",
    "    ).df\n",
    "    \n",
    "    final_df_6 = alpaca.get_barset(\n",
    "         the_list[5],\n",
    "         timeframe,\n",
    "         start = begin_date,\n",
    "         end = end_date\n",
    "    ).df    \n",
    "    \n",
    "    final_df = pd.concat([final_df_1, final_df_2, final_df_3, final_df_4, final_df_5, final_df_6], axis=1, join=\"inner\")\n",
    "else:\n",
    "    final_df = alpaca.get_barset(\n",
    "        the_list,\n",
    "        timeframe,\n",
    "        start = begin_date,\n",
    "        end = end_date\n",
    "    ).df\n",
    "\n",
    "\n",
    "# Display sample data\n",
    "final_df                   # only get a 100 days worth of data ..."
   ]
  },
  {
   "cell_type": "code",
   "execution_count": 173,
   "id": "b31cff61",
   "metadata": {},
   "outputs": [],
   "source": [
    "# save the data\n",
    "# json = final_df(\"hist_data.json\")\n",
    "# save the file for future read\n",
    "with open('resources/data/hist_data.json', 'w') as outfile:\n",
    "    json.dump(final_df.to_json(), outfile)"
   ]
  },
  {
   "cell_type": "code",
   "execution_count": null,
   "id": "7672a921",
   "metadata": {},
   "outputs": [],
   "source": []
  },
  {
   "cell_type": "code",
   "execution_count": null,
   "id": "663afd20",
   "metadata": {},
   "outputs": [],
   "source": [
    "# how do I read ?\n",
    "# my_file = open('resources/data/hist_data.json', 'r')\n",
    "# json_data = my_file.read()\n",
    "# json_data\n",
    "# df_a = json_data.df\n",
    "# df_a\n",
    "# with open('resources/data/hist_data.json', 'r') as infile:\n",
    "#     data_read = json.load(infile)\n",
    "# # df_a = pd.data_read\n",
    "# # for i in range(0, len(data_read)):\n",
    "# #     print(data_read[i])\n",
    "# # data_read.splitlines()\n",
    "# df_a = pd.DataFrame.from_dict(pd.json_normalize(data_read), orient='columns')\n",
    "# df_a"
   ]
  },
  {
   "cell_type": "code",
   "execution_count": null,
   "id": "951a816c",
   "metadata": {},
   "outputs": [],
   "source": []
  },
  {
   "cell_type": "code",
   "execution_count": null,
   "id": "ce5086c0",
   "metadata": {},
   "outputs": [],
   "source": [
    "# create a blank dictionary\n",
    "historical_data_for_all_tickers = {}\n",
    "\n",
    "# myData = pdr.get_data_yahoo('AAPL', start_date)\n",
    "# myData\n",
    "\n",
    "# iterate for each ticker\n",
    "for ticker in all_tickers:\n",
    "#    historical_data_for_all_tickers[ticker] = si.get_data(ticker, start_date = '07/01/2021',  end_date = '08/10/2021')\n",
    "     historical_data_for_all_tickers[ticker] = si.get_data(ticker, begin_date,  end_date)\n",
    "# historical_data_for_all_tickers"
   ]
  },
  {
   "cell_type": "code",
   "execution_count": null,
   "id": "b17b16e8",
   "metadata": {},
   "outputs": [],
   "source": [
    "# convert to data frame\n",
    "df = pd.DataFrame(columns = ['open', 'high', 'low', 'close', 'adjclose', 'volume', 'ticker'])\n",
    "\n",
    "df_hist_date_all_tickers = create_dataframe(historical_data_for_all_tickers, df)\n",
    "df_hist_date_all_tickers"
   ]
  },
  {
   "cell_type": "code",
   "execution_count": null,
   "id": "c7c2359e",
   "metadata": {},
   "outputs": [],
   "source": [
    "# a = np.array(['a', 'b', 'c', 'd'])\n",
    "\n",
    "# ser = pd.Series(a)\n",
    "# ser\n",
    "\n",
    "# df1 = {\n",
    "#     \"AAPL\": {\n",
    "#     \"open\": [1,2,3,4,5,6,7,8,9]\n",
    "#     \"close\": [2,3,4,5,6,7,8,9,1]}\n",
    "#     \"MSFT\": \n",
    "#     {\"open\": [1,2,3,4,5,6,7,8,9]\n",
    "#     \"close\": [2,3,4,5,6,7,8,9,1]}\n",
    "# }\n",
    "\n",
    "# df1"
   ]
  },
  {
   "cell_type": "code",
   "execution_count": null,
   "id": "60fdc6f0",
   "metadata": {},
   "outputs": [],
   "source": []
  }
 ],
 "metadata": {
  "kernelspec": {
   "display_name": "Python (dev)",
   "language": "python",
   "name": "dev"
  },
  "language_info": {
   "codemirror_mode": {
    "name": "ipython",
    "version": 3
   },
   "file_extension": ".py",
   "mimetype": "text/x-python",
   "name": "python",
   "nbconvert_exporter": "python",
   "pygments_lexer": "ipython3",
   "version": "3.7.10"
  }
 },
 "nbformat": 4,
 "nbformat_minor": 5
}
